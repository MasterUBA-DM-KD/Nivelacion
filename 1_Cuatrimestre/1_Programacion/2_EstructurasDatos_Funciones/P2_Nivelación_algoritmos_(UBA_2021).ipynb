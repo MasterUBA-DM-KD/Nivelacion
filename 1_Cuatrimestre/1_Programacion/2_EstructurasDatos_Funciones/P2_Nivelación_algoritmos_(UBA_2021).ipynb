{
  "nbformat": 4,
  "nbformat_minor": 0,
  "metadata": {
    "colab": {
      "provenance": [],
      "collapsed_sections": [
        "XvwzVuBqLePC",
        "vXkQZj9OAeZQ",
        "K7UIKC27Agoc",
        "s5_0fM5wAiqz",
        "nKz7JTc3AkXk",
        "ITKwZNxuXFhY",
        "34Hq0F37MBES",
        "l_ZH2o_FQ5UY",
        "eID1s7HEMKua",
        "k_oeq4O9Mpjj",
        "RmTjNPPO8KqN",
        "tEA0FWhU8M1w",
        "9AiFCGx18XEY",
        "t-UxRMCv916h",
        "TgB_BSP4N0Ma",
        "WkHUCFht-k-h",
        "1NOlTqaI-_FZ"
      ]
    },
    "kernelspec": {
      "name": "python3",
      "display_name": "Python 3"
    },
    "language_info": {
      "name": "python"
    }
  },
  "cells": [
    {
      "cell_type": "markdown",
      "source": [
        "# <center>Maestría en Explotación de Datos y Descubrimiento del Conocimiento</center>\n",
        "## <center>FCEN - UBA</center>\n",
        "## <center>Curso de Nivelación de Algoritmos 2022</center>\n",
        "\n",
        "### <center>Clase Práctica 2</center>\n",
        "\n",
        "<p align=\"right\"> <br>\n",
        "Laura Eliaschev <br>\n",
        "Azul Villanueva <br>\n",
        "Diego Onna<br>\n",
        "Salvador Calani</p>"
      ],
      "metadata": {
        "id": "kIAWd5immlZF"
      }
    },
    {
      "cell_type": "markdown",
      "metadata": {
        "id": "Mdb8ojF0_5D3"
      },
      "source": [
        "## Clase 2 - Temas\n",
        "+ Condicional: if.. ; if..else..\n",
        "+ Ciclo: while..; ciclos anidados.\n",
        "+ Modularidad del código: funciones.\n",
        "+ Alcance (scope) de variables. \n",
        "+ TDA: Diccionarios"
      ]
    },
    {
      "cell_type": "code",
      "metadata": {
        "colab": {
          "base_uri": "https://localhost:8080/"
        },
        "id": "kIWwSGzpyyGz",
        "outputId": "e542357b-799e-4aac-8625-7076732c3410"
      },
      "source": [
        "a = 10\n",
        "b = [100, 1]\n",
        "\n",
        "if b[0] // (a * 10) == b[1]:\n",
        "    b[0] = b[0] - 1    # bloque\n",
        "    b[1] = b[1] * 5    # indentado\n",
        "\n",
        "print(a, b[0], b[1])"
      ],
      "execution_count": null,
      "outputs": [
        {
          "output_type": "stream",
          "name": "stdout",
          "text": [
            "10 99 5\n"
          ]
        }
      ]
    },
    {
      "cell_type": "code",
      "source": [
        "b[0] // (a * 10)"
      ],
      "metadata": {
        "colab": {
          "base_uri": "https://localhost:8080/"
        },
        "id": "1oW-GM3kB2fZ",
        "outputId": "7203f202-6db3-4042-e71c-58162dcbbed8"
      },
      "execution_count": null,
      "outputs": [
        {
          "output_type": "execute_result",
          "data": {
            "text/plain": [
              "0"
            ]
          },
          "metadata": {},
          "execution_count": 14
        }
      ]
    },
    {
      "cell_type": "code",
      "metadata": {
        "colab": {
          "base_uri": "https://localhost:8080/"
        },
        "id": "mmQZxC730M_e",
        "outputId": "5e8a1618-c9d3-4f18-eca4-80a2a3278ce0"
      },
      "source": [
        "a = 'a' \n",
        "b = 'b'\n",
        "#a > b\n",
        "if a > b: \n",
        "    a = '$'\n",
        "else:\n",
        "    a = '%'\n",
        "\n",
        "print(a)"
      ],
      "execution_count": null,
      "outputs": [
        {
          "output_type": "stream",
          "name": "stdout",
          "text": [
            "%\n"
          ]
        }
      ]
    },
    {
      "cell_type": "code",
      "metadata": {
        "colab": {
          "base_uri": "https://localhost:8080/"
        },
        "id": "56uVG71R1bt_",
        "outputId": "cd47e785-8ab1-4c61-cf9d-d19850345f1b"
      },
      "source": [
        "i = 0\n",
        "while i < 3:\n",
        "    print(i)\n",
        "    i = i + 1"
      ],
      "execution_count": null,
      "outputs": [
        {
          "output_type": "stream",
          "name": "stdout",
          "text": [
            "0\n",
            "1\n",
            "2\n"
          ]
        }
      ]
    },
    {
      "cell_type": "code",
      "metadata": {
        "colab": {
          "base_uri": "https://localhost:8080/"
        },
        "id": "xRQqZhOd2ALt",
        "outputId": "f2b02da2-1eb6-4052-a8be-71796a5bc2cb"
      },
      "source": [
        "range(5)"
      ],
      "execution_count": null,
      "outputs": [
        {
          "output_type": "execute_result",
          "data": {
            "text/plain": [
              "range(0, 5)"
            ]
          },
          "metadata": {},
          "execution_count": 13
        }
      ]
    },
    {
      "cell_type": "code",
      "metadata": {
        "colab": {
          "base_uri": "https://localhost:8080/"
        },
        "id": "w-ztItKx1u25",
        "outputId": "c3c7c5ee-c9e7-427d-e2b1-1928548f5cfb"
      },
      "source": [
        "for ax in range(0,3):\n",
        "    print(ax)"
      ],
      "execution_count": null,
      "outputs": [
        {
          "output_type": "stream",
          "name": "stdout",
          "text": [
            "0\n",
            "1\n",
            "2\n",
            "2\n"
          ]
        }
      ]
    },
    {
      "cell_type": "code",
      "metadata": {
        "colab": {
          "base_uri": "https://localhost:8080/"
        },
        "id": "kmeUCwXQ2oXK",
        "outputId": "244ed249-cb42-4e3f-841a-dcfcdcbe90e9"
      },
      "source": [
        "i = 0\n",
        "while i < 3:\n",
        "    if i % 2 == 0:\n",
        "      print(i, 'es par')\n",
        "    else:\n",
        "      print(i, 'es impar')\n",
        "    i = i + 1"
      ],
      "execution_count": null,
      "outputs": [
        {
          "output_type": "stream",
          "name": "stdout",
          "text": [
            "0 es par\n",
            "1 es impar\n",
            "2 es par\n"
          ]
        }
      ]
    },
    {
      "cell_type": "code",
      "metadata": {
        "colab": {
          "base_uri": "https://localhost:8080/"
        },
        "id": "YwOwHXV43BvB",
        "outputId": "142fe08d-9167-4b5c-e632-6c39ff5a94b2"
      },
      "source": [
        "for i in range(5,10):\n",
        "    if i % 2 == 0:\n",
        "      print(i, 'es par')\n",
        "    else:\n",
        "      print(i, 'es impar')\n",
        "print(\"termine!\")"
      ],
      "execution_count": null,
      "outputs": [
        {
          "output_type": "stream",
          "name": "stdout",
          "text": [
            "termine!\n"
          ]
        }
      ]
    },
    {
      "cell_type": "code",
      "metadata": {
        "colab": {
          "base_uri": "https://localhost:8080/"
        },
        "id": "fl37jBKT24Kv",
        "outputId": "e0d2f471-848a-4b26-a380-13a268724faa"
      },
      "source": [
        "# loop\n",
        "fil = 1\n",
        "while fil <= 5:\n",
        "    \n",
        "    # loop anidado\n",
        "    col = 1\n",
        "    while col <= fil:\n",
        "        print(col, end=' ')\n",
        "        col = col + 1\n",
        "    \n",
        "    print()\n",
        "    fil = fil + 1"
      ],
      "execution_count": null,
      "outputs": [
        {
          "output_type": "stream",
          "name": "stdout",
          "text": [
            "1 \n",
            "1 2 \n",
            "1 2 3 \n",
            "1 2 3 4 \n",
            "1 2 3 4 5 \n"
          ]
        }
      ]
    },
    {
      "cell_type": "code",
      "metadata": {
        "colab": {
          "base_uri": "https://localhost:8080/"
        },
        "id": "anyuY_-q64Gx",
        "outputId": "5d56f970-0ffc-4d6a-ed07-e675eae9b916"
      },
      "source": [
        "# loop\n",
        "for fil in range(1,7):\n",
        "    \n",
        "    # loop anidado\n",
        "    for col in range(1,fil):\n",
        "        print(col, end=' ')\n",
        "        \n",
        "    print()"
      ],
      "execution_count": null,
      "outputs": [
        {
          "output_type": "stream",
          "name": "stdout",
          "text": [
            "\n",
            "1 \n",
            "1 2 \n",
            "1 2 3 \n",
            "1 2 3 4 \n",
            "1 2 3 4 5 \n"
          ]
        }
      ]
    },
    {
      "cell_type": "code",
      "source": [
        "# loop\n",
        "fil = 1\n",
        "while fil <= 5:\n",
        "    \n",
        "    # loop anidado\n",
        "    col = 5\n",
        "    while col >= fil:\n",
        "        print(col, end=' ')\n",
        "        col = col - 1\n",
        "    \n",
        "    print()\n",
        "    fil = fil + 1"
      ],
      "metadata": {
        "colab": {
          "base_uri": "https://localhost:8080/"
        },
        "id": "bMp3aH_1CLwh",
        "outputId": "eb17a581-fb12-46c8-af9b-1678cd4d3c0c"
      },
      "execution_count": null,
      "outputs": [
        {
          "output_type": "stream",
          "name": "stdout",
          "text": [
            "5 4 3 2 1 \n",
            "5 4 3 2 \n",
            "5 4 3 \n",
            "5 4 \n",
            "5 \n"
          ]
        }
      ]
    },
    {
      "cell_type": "code",
      "metadata": {
        "colab": {
          "base_uri": "https://localhost:8080/"
        },
        "id": "QpyT_ZOH5IsX",
        "outputId": "cc1387dd-7ff2-4fd6-b13f-ca3c80f13ea8"
      },
      "source": [
        "4 / 2"
      ],
      "execution_count": null,
      "outputs": [
        {
          "output_type": "execute_result",
          "data": {
            "text/plain": [
              "2.0"
            ]
          },
          "metadata": {},
          "execution_count": 34
        }
      ]
    },
    {
      "cell_type": "code",
      "metadata": {
        "colab": {
          "base_uri": "https://localhost:8080/"
        },
        "id": "_EnkKG255Kq8",
        "outputId": "4aacfcd8-211c-45af-eef2-6d5d67f62f6e"
      },
      "source": [
        "4 % 2"
      ],
      "execution_count": null,
      "outputs": [
        {
          "output_type": "execute_result",
          "data": {
            "text/plain": [
              "0"
            ]
          },
          "metadata": {},
          "execution_count": 35
        }
      ]
    },
    {
      "cell_type": "markdown",
      "metadata": {
        "id": "XvwzVuBqLePC"
      },
      "source": [
        "## Código de los slides de la parte Teórica"
      ]
    },
    {
      "cell_type": "markdown",
      "metadata": {
        "id": "91skXRYrAcW0"
      },
      "source": [
        "### Escalera 1"
      ]
    },
    {
      "cell_type": "code",
      "metadata": {
        "id": "AFODphyDAd7k",
        "outputId": "2cf86711-4a8c-4c90-8830-bd853a29d089",
        "colab": {
          "base_uri": "https://localhost:8080/"
        }
      },
      "source": [
        "fil = 1\n",
        "while fil <= 5:\n",
        "   col = 1\n",
        "   while col <= fil:\n",
        "      print(col, end=' ')\n",
        "      col = col + 1\n",
        "   print()\n",
        "   fil = fil + 1\n"
      ],
      "execution_count": null,
      "outputs": [
        {
          "output_type": "stream",
          "name": "stdout",
          "text": [
            "1 \n",
            "1 2 \n",
            "1 2 3 \n",
            "1 2 3 4 \n",
            "1 2 3 4 5 \n"
          ]
        }
      ]
    },
    {
      "cell_type": "markdown",
      "metadata": {
        "id": "vXkQZj9OAeZQ"
      },
      "source": [
        "### Escalera 2"
      ]
    },
    {
      "cell_type": "code",
      "metadata": {
        "id": "UY3dtwKDAgL8",
        "outputId": "8953ae20-84ff-4d8c-e94d-6cfb7e54bc36",
        "colab": {
          "base_uri": "https://localhost:8080/"
        }
      },
      "source": [
        "fil = 5\n",
        "while fil >= 1:\n",
        "   col = 1\n",
        "   while col <= fil:\n",
        "      print(col,end=' ')\n",
        "      col = col + 1\n",
        "   print()\n",
        "   fil = fil - 1"
      ],
      "execution_count": null,
      "outputs": [
        {
          "output_type": "stream",
          "name": "stdout",
          "text": [
            "1 2 3 4 5 \n",
            "1 2 3 4 \n",
            "1 2 3 \n",
            "1 2 \n",
            "1 \n"
          ]
        }
      ]
    },
    {
      "cell_type": "markdown",
      "metadata": {
        "id": "K7UIKC27Agoc"
      },
      "source": [
        "### Escalera 3"
      ]
    },
    {
      "cell_type": "code",
      "metadata": {
        "id": "0jXo-yPeAiVV",
        "outputId": "0a4936ef-5265-4e79-f6ef-129e01d6cc5d",
        "colab": {
          "base_uri": "https://localhost:8080/"
        }
      },
      "source": [
        "fil = 5\n",
        "while fil >= 1:\n",
        "   if fil % 2 != 0:\n",
        "      col = 1\n",
        "      while col <= fil:\n",
        "         print(col, end=' ')\n",
        "         col = col + 1\n",
        "      print()\n",
        "      col = 1\n",
        "      while col <= fil:\n",
        "         print(col, end=' ')\n",
        "         col = col + 1\n",
        "      print()\n",
        "   fil = fil - 1"
      ],
      "execution_count": null,
      "outputs": [
        {
          "output_type": "stream",
          "name": "stdout",
          "text": [
            "1 2 3 4 5 \n",
            "1 2 3 4 5 \n",
            "1 2 3 \n",
            "1 2 3 \n",
            "1 \n",
            "1 \n"
          ]
        }
      ]
    },
    {
      "cell_type": "markdown",
      "metadata": {
        "id": "s5_0fM5wAiqz"
      },
      "source": [
        "### Escalera 4"
      ]
    },
    {
      "cell_type": "code",
      "metadata": {
        "id": "xrZDu6O2AlE6"
      },
      "source": [
        "def imprimir_fila(fil):\n",
        "   col = 1\n",
        "   while col <= fil:\n",
        "      print(col,end='-')\n",
        "      col = col + 1\n",
        "   print()"
      ],
      "execution_count": null,
      "outputs": []
    },
    {
      "cell_type": "code",
      "metadata": {
        "id": "3K3YWtLHL9af"
      },
      "source": [
        "\n",
        "def triangulos(fil):\n",
        "    # fil = 1\n",
        "    while fil <= 5:\n",
        "      imprimir_fila(fil)\n",
        "      fil = fil + 1\n",
        "\n",
        "    print\n",
        "\n",
        "    # fil = 5\n",
        "    while fil >= 1:\n",
        "      imprimir_fila(fil)\n",
        "      fil = fil - 1\n",
        "\n",
        "    print\n",
        "\n",
        "    #fil = 5\n",
        "\n",
        "    #while fil >= 1:\n",
        "    #  if fil % 2 != 0:\n",
        "    #      imprimir_fila(fil)\n",
        "    #      imprimir_fila(fil)\n",
        "    #  fil = fil - 1\n",
        "    \n",
        "    return fil"
      ],
      "execution_count": null,
      "outputs": []
    },
    {
      "cell_type": "code",
      "metadata": {
        "colab": {
          "base_uri": "https://localhost:8080/"
        },
        "id": "KP4Di3myMUX_",
        "outputId": "8205c5ba-605d-4390-8968-4314ad94e7a0"
      },
      "source": [
        "salida = triangulos(16)\n",
        "\n",
        "if salida > 10:\n",
        "  print(\"termino OK\")\n",
        "else:\n",
        "  print(\"termino NOT OK\")"
      ],
      "execution_count": null,
      "outputs": [
        {
          "output_type": "stream",
          "name": "stdout",
          "text": [
            "1-2-3-4-5-6-7-8-9-10-11-12-13-14-15-16-\n",
            "1-2-3-4-5-6-7-8-9-10-11-12-13-14-15-\n",
            "1-2-3-4-5-6-7-8-9-10-11-12-13-14-\n",
            "1-2-3-4-5-6-7-8-9-10-11-12-13-\n",
            "1-2-3-4-5-6-7-8-9-10-11-12-\n",
            "1-2-3-4-5-6-7-8-9-10-11-\n",
            "1-2-3-4-5-6-7-8-9-10-\n",
            "1-2-3-4-5-6-7-8-9-\n",
            "1-2-3-4-5-6-7-8-\n",
            "1-2-3-4-5-6-7-\n",
            "1-2-3-4-5-6-\n",
            "1-2-3-4-5-\n",
            "1-2-3-4-\n",
            "1-2-3-\n",
            "1-2-\n",
            "1-\n",
            "termino NOT OK\n"
          ]
        }
      ]
    },
    {
      "cell_type": "code",
      "source": [
        "salida"
      ],
      "metadata": {
        "id": "F5VS54EXDPHR",
        "outputId": "f336ac16-16a3-40f5-c9f1-8da99abd295b",
        "colab": {
          "base_uri": "https://localhost:8080/"
        }
      },
      "execution_count": null,
      "outputs": [
        {
          "output_type": "execute_result",
          "data": {
            "text/plain": [
              "0"
            ]
          },
          "metadata": {},
          "execution_count": 19
        }
      ]
    },
    {
      "cell_type": "code",
      "metadata": {
        "colab": {
          "base_uri": "https://localhost:8080/"
        },
        "id": "6tFRmwWoNyyx",
        "outputId": "45cee914-529d-484f-ec9c-d23d1029cffd"
      },
      "source": [
        "if triangulos(50) == 1:\n",
        "  print(\"algo\")\n",
        "else:\n",
        "  print(\"perdiste\")"
      ],
      "execution_count": null,
      "outputs": [
        {
          "output_type": "stream",
          "name": "stdout",
          "text": [
            "1-2-3-4-5-6-7-8-9-10-11-12-13-14-15-16-17-18-19-20-21-22-23-24-25-26-27-28-29-30-31-32-33-34-35-36-37-38-39-40-41-42-43-44-45-46-47-48-49-50-\n",
            "1-2-3-4-5-6-7-8-9-10-11-12-13-14-15-16-17-18-19-20-21-22-23-24-25-26-27-28-29-30-31-32-33-34-35-36-37-38-39-40-41-42-43-44-45-46-47-48-49-\n",
            "1-2-3-4-5-6-7-8-9-10-11-12-13-14-15-16-17-18-19-20-21-22-23-24-25-26-27-28-29-30-31-32-33-34-35-36-37-38-39-40-41-42-43-44-45-46-47-48-\n",
            "1-2-3-4-5-6-7-8-9-10-11-12-13-14-15-16-17-18-19-20-21-22-23-24-25-26-27-28-29-30-31-32-33-34-35-36-37-38-39-40-41-42-43-44-45-46-47-\n",
            "1-2-3-4-5-6-7-8-9-10-11-12-13-14-15-16-17-18-19-20-21-22-23-24-25-26-27-28-29-30-31-32-33-34-35-36-37-38-39-40-41-42-43-44-45-46-\n",
            "1-2-3-4-5-6-7-8-9-10-11-12-13-14-15-16-17-18-19-20-21-22-23-24-25-26-27-28-29-30-31-32-33-34-35-36-37-38-39-40-41-42-43-44-45-\n",
            "1-2-3-4-5-6-7-8-9-10-11-12-13-14-15-16-17-18-19-20-21-22-23-24-25-26-27-28-29-30-31-32-33-34-35-36-37-38-39-40-41-42-43-44-\n",
            "1-2-3-4-5-6-7-8-9-10-11-12-13-14-15-16-17-18-19-20-21-22-23-24-25-26-27-28-29-30-31-32-33-34-35-36-37-38-39-40-41-42-43-\n",
            "1-2-3-4-5-6-7-8-9-10-11-12-13-14-15-16-17-18-19-20-21-22-23-24-25-26-27-28-29-30-31-32-33-34-35-36-37-38-39-40-41-42-\n",
            "1-2-3-4-5-6-7-8-9-10-11-12-13-14-15-16-17-18-19-20-21-22-23-24-25-26-27-28-29-30-31-32-33-34-35-36-37-38-39-40-41-\n",
            "1-2-3-4-5-6-7-8-9-10-11-12-13-14-15-16-17-18-19-20-21-22-23-24-25-26-27-28-29-30-31-32-33-34-35-36-37-38-39-40-\n",
            "1-2-3-4-5-6-7-8-9-10-11-12-13-14-15-16-17-18-19-20-21-22-23-24-25-26-27-28-29-30-31-32-33-34-35-36-37-38-39-\n",
            "1-2-3-4-5-6-7-8-9-10-11-12-13-14-15-16-17-18-19-20-21-22-23-24-25-26-27-28-29-30-31-32-33-34-35-36-37-38-\n",
            "1-2-3-4-5-6-7-8-9-10-11-12-13-14-15-16-17-18-19-20-21-22-23-24-25-26-27-28-29-30-31-32-33-34-35-36-37-\n",
            "1-2-3-4-5-6-7-8-9-10-11-12-13-14-15-16-17-18-19-20-21-22-23-24-25-26-27-28-29-30-31-32-33-34-35-36-\n",
            "1-2-3-4-5-6-7-8-9-10-11-12-13-14-15-16-17-18-19-20-21-22-23-24-25-26-27-28-29-30-31-32-33-34-35-\n",
            "1-2-3-4-5-6-7-8-9-10-11-12-13-14-15-16-17-18-19-20-21-22-23-24-25-26-27-28-29-30-31-32-33-34-\n",
            "1-2-3-4-5-6-7-8-9-10-11-12-13-14-15-16-17-18-19-20-21-22-23-24-25-26-27-28-29-30-31-32-33-\n",
            "1-2-3-4-5-6-7-8-9-10-11-12-13-14-15-16-17-18-19-20-21-22-23-24-25-26-27-28-29-30-31-32-\n",
            "1-2-3-4-5-6-7-8-9-10-11-12-13-14-15-16-17-18-19-20-21-22-23-24-25-26-27-28-29-30-31-\n",
            "1-2-3-4-5-6-7-8-9-10-11-12-13-14-15-16-17-18-19-20-21-22-23-24-25-26-27-28-29-30-\n",
            "1-2-3-4-5-6-7-8-9-10-11-12-13-14-15-16-17-18-19-20-21-22-23-24-25-26-27-28-29-\n",
            "1-2-3-4-5-6-7-8-9-10-11-12-13-14-15-16-17-18-19-20-21-22-23-24-25-26-27-28-\n",
            "1-2-3-4-5-6-7-8-9-10-11-12-13-14-15-16-17-18-19-20-21-22-23-24-25-26-27-\n",
            "1-2-3-4-5-6-7-8-9-10-11-12-13-14-15-16-17-18-19-20-21-22-23-24-25-26-\n",
            "1-2-3-4-5-6-7-8-9-10-11-12-13-14-15-16-17-18-19-20-21-22-23-24-25-\n",
            "1-2-3-4-5-6-7-8-9-10-11-12-13-14-15-16-17-18-19-20-21-22-23-24-\n",
            "1-2-3-4-5-6-7-8-9-10-11-12-13-14-15-16-17-18-19-20-21-22-23-\n",
            "1-2-3-4-5-6-7-8-9-10-11-12-13-14-15-16-17-18-19-20-21-22-\n",
            "1-2-3-4-5-6-7-8-9-10-11-12-13-14-15-16-17-18-19-20-21-\n",
            "1-2-3-4-5-6-7-8-9-10-11-12-13-14-15-16-17-18-19-20-\n",
            "1-2-3-4-5-6-7-8-9-10-11-12-13-14-15-16-17-18-19-\n",
            "1-2-3-4-5-6-7-8-9-10-11-12-13-14-15-16-17-18-\n",
            "1-2-3-4-5-6-7-8-9-10-11-12-13-14-15-16-17-\n",
            "1-2-3-4-5-6-7-8-9-10-11-12-13-14-15-16-\n",
            "1-2-3-4-5-6-7-8-9-10-11-12-13-14-15-\n",
            "1-2-3-4-5-6-7-8-9-10-11-12-13-14-\n",
            "1-2-3-4-5-6-7-8-9-10-11-12-13-\n",
            "1-2-3-4-5-6-7-8-9-10-11-12-\n",
            "1-2-3-4-5-6-7-8-9-10-11-\n",
            "1-2-3-4-5-6-7-8-9-10-\n",
            "1-2-3-4-5-6-7-8-9-\n",
            "1-2-3-4-5-6-7-8-\n",
            "1-2-3-4-5-6-7-\n",
            "1-2-3-4-5-6-\n",
            "1-2-3-4-5-\n",
            "1-2-3-4-\n",
            "1-2-3-\n",
            "1-2-\n",
            "1-\n",
            "perdiste\n"
          ]
        }
      ]
    },
    {
      "cell_type": "code",
      "metadata": {
        "colab": {
          "base_uri": "https://localhost:8080/"
        },
        "id": "zMO2GKjiNPt5",
        "outputId": "e0ff3a62-f512-46b1-cd2f-c08abc83d20a"
      },
      "source": [
        "print(salida)"
      ],
      "execution_count": null,
      "outputs": [
        {
          "output_type": "stream",
          "name": "stdout",
          "text": [
            "0\n"
          ]
        }
      ]
    },
    {
      "cell_type": "markdown",
      "metadata": {
        "id": "nKz7JTc3AkXk"
      },
      "source": [
        "### Raiz Cuadrada"
      ]
    },
    {
      "cell_type": "code",
      "metadata": {
        "id": "ib-c9wQZAoxM"
      },
      "source": [
        "def raiz_cuadrada(n):\n",
        "   i = 1\n",
        "   while i * i <= n:\n",
        "      i = i + 1\n",
        "   return i - 1"
      ],
      "execution_count": null,
      "outputs": []
    },
    {
      "cell_type": "code",
      "metadata": {
        "colab": {
          "base_uri": "https://localhost:8080/"
        },
        "id": "PldSURw8K6LF",
        "outputId": "a200e519-288e-42b3-fa47-3e9853c63b63"
      },
      "source": [
        "raiz_cuadrada(64)"
      ],
      "execution_count": null,
      "outputs": [
        {
          "output_type": "execute_result",
          "data": {
            "text/plain": [
              "8"
            ]
          },
          "metadata": {},
          "execution_count": 10
        }
      ]
    },
    {
      "cell_type": "code",
      "metadata": {
        "colab": {
          "base_uri": "https://localhost:8080/"
        },
        "id": "GN7Kry0hK4pQ",
        "outputId": "72f19e11-a8cb-4517-bb41-434b08df4577"
      },
      "source": [
        "x = 1\n",
        "while x <= 5:\n",
        "   print(raiz_cuadrada(x))\n",
        "   x = x + 1"
      ],
      "execution_count": null,
      "outputs": [
        {
          "output_type": "stream",
          "name": "stdout",
          "text": [
            "1\n",
            "1\n",
            "1\n",
            "2\n",
            "2\n"
          ]
        }
      ]
    },
    {
      "cell_type": "markdown",
      "metadata": {
        "id": "ITKwZNxuXFhY"
      },
      "source": [
        "## Conceptos"
      ]
    },
    {
      "cell_type": "markdown",
      "metadata": {
        "id": "34Hq0F37MBES"
      },
      "source": [
        "### Flujo de Programa\n",
        "Los programas siguen un \"flujo\" definido por el programador. Esto le permite realizar operaciones complejas. Notar que todas estas estructuras terminan con un \"**:**\" , y la siguiente línea tiene un tab de indentación (como una sangría)."
      ]
    },
    {
      "cell_type": "code",
      "metadata": {
        "id": "_cK3Qev_Vfwv",
        "colab": {
          "base_uri": "https://localhost:8080/"
        },
        "outputId": "94a28faf-d538-4a05-f1ee-54713ac5bd7b"
      },
      "source": [
        "fahr = float(75)\n",
        "cel = (5*(fahr-32))/9\n",
        "print (\"fahr=\", round(fahr,2), \"-> cel=\", round(cel,2))"
      ],
      "execution_count": null,
      "outputs": [
        {
          "output_type": "stream",
          "name": "stdout",
          "text": [
            "fahr= 75.0 -> cel= 23.89\n"
          ]
        }
      ]
    },
    {
      "cell_type": "markdown",
      "metadata": {
        "id": "l_ZH2o_FQ5UY"
      },
      "source": [
        "### Entrada de datos"
      ]
    },
    {
      "cell_type": "markdown",
      "metadata": {
        "id": "IiHaxkTmS4_r"
      },
      "source": [
        "##### Argumentos de la línea de comando"
      ]
    },
    {
      "cell_type": "code",
      "metadata": {
        "id": "m1jJ6da53kgo",
        "colab": {
          "base_uri": "https://localhost:8080/"
        },
        "outputId": "d3d425ba-fdb9-459c-b314-4f5f1929342b"
      },
      "source": [
        "import sys\n",
        "\n",
        "print(sys.argv)\n",
        "len(sys.argv)"
      ],
      "execution_count": null,
      "outputs": [
        {
          "output_type": "stream",
          "name": "stdout",
          "text": [
            "['/usr/local/lib/python3.7/dist-packages/ipykernel_launcher.py', '-f', '/root/.local/share/jupyter/runtime/kernel-e5d2b3a2-746f-4355-b107-15c43bff304a.json']\n"
          ]
        },
        {
          "output_type": "execute_result",
          "data": {
            "text/plain": [
              "3"
            ]
          },
          "metadata": {},
          "execution_count": 40
        }
      ]
    },
    {
      "cell_type": "code",
      "metadata": {
        "id": "n3ELHp1l13Qx",
        "colab": {
          "base_uri": "https://localhost:8080/"
        },
        "outputId": "cfb6f24a-2ca4-4d67-ee9d-8d70afec7a13"
      },
      "source": [
        "# Seteamos los valores de los parámetros de argv como si ejecutáramos desde la línea de comandos\n",
        "sys.argv[0] = 'archivo.py'\n",
        "sys.argv[1] = 75\n",
        "sys.argv.pop(-1)\n",
        "print(sys.argv)\n"
      ],
      "execution_count": null,
      "outputs": [
        {
          "output_type": "stream",
          "name": "stdout",
          "text": [
            "['archivo.py', 75]\n"
          ]
        }
      ]
    },
    {
      "cell_type": "code",
      "metadata": {
        "id": "XC_jLlRZQ3Go",
        "colab": {
          "base_uri": "https://localhost:8080/"
        },
        "outputId": "cdb5ce53-7d1b-4822-c49d-8aa1bfc36615"
      },
      "source": [
        "import sys\n",
        "\n",
        "fahr = float(sys.argv[1])\n",
        "cel = (5*(fahr-32))/9\n",
        "print (\"fahr=\", round(fahr,2), \"-> cel=\", round(cel,2))\n"
      ],
      "execution_count": null,
      "outputs": [
        {
          "output_type": "stream",
          "name": "stdout",
          "text": [
            "fahr= 75.0 -> cel= 23.89\n"
          ]
        }
      ]
    },
    {
      "cell_type": "markdown",
      "metadata": {
        "id": "Sr-6ahlHAyyg"
      },
      "source": [
        "##### Input o entrada por teclado\n",
        "El input de un programa es la manera de recibir información del entorno externo al programa. Esto puede ser un usuario, un archivo, otro programa, un sensor, etc.\n",
        "\n",
        "Para ingresar una variable podemos usar input( \"Texto a mostrar:\" ). Corran este código ustedes para que les de una pequeña casilla donde escribir, y luego el programa escribirá lo que ustedes ingresaron."
      ]
    },
    {
      "cell_type": "code",
      "metadata": {
        "colab": {
          "base_uri": "https://localhost:8080/"
        },
        "id": "DEeT1IqNEB1b",
        "outputId": "fb7d1158-8447-41a9-a35e-ee702e3e45bb"
      },
      "source": [
        "nombre = input(\"¿cual es tu nombre?\")\n",
        "print(\"Hola \" + nombre)"
      ],
      "execution_count": null,
      "outputs": [
        {
          "output_type": "stream",
          "name": "stdout",
          "text": [
            "¿cual es tu nombre?Alvaro\n",
            "Hola Alvaro\n"
          ]
        }
      ]
    },
    {
      "cell_type": "code",
      "metadata": {
        "id": "DpicbFPvAK7R",
        "colab": {
          "base_uri": "https://localhost:8080/"
        },
        "outputId": "53ae0f76-251a-4ab9-d16e-cea2f87f075a"
      },
      "source": [
        "lugar = input(\"Ingrese la ciudad donde vive: \")\n",
        "temperatura = input(\"Ingrese cuántos grados hace: \")\n",
        "\n",
        "print(\"\")\n",
        "print(\"Hola, soy de \", lugar)\n",
        "print(\"La temperatura es de \", temperatura, \" grados\")"
      ],
      "execution_count": null,
      "outputs": [
        {
          "output_type": "stream",
          "name": "stdout",
          "text": [
            "Ingrese la ciudad donde vive: Quilmes\n",
            "Ingrese cuántos grados hace: 37\n",
            "\n",
            "Hola, soy de  Quilmes\n",
            "La temperatura es de  37  grados\n"
          ]
        }
      ]
    },
    {
      "cell_type": "markdown",
      "metadata": {
        "id": "eID1s7HEMKua"
      },
      "source": [
        "### Estructura \"if\" (Sentencias Condicionales)\n",
        " Es la estructura básica que le permite al programador ver si se cumple una condición, y realizar distintas acciones según si eso sucede o no.\n",
        "\n",
        "**if** (condicion):\n",
        "    \n",
        "    ... lo que se hace si se cumple la condición\n",
        "    \n",
        "**elif** (condicion2):\n",
        "\n",
        "    ... lo que se hace si se cumple la condicion2\n",
        "     \n",
        "**else**:\n",
        "\n",
        "    ... lo que se hace si no se cumple la condición\n",
        "    \n",
        "    \n",
        " Siempre se comienza con **if**, después puede haber cualquier cantidad de **elif** (o ninguno) y luego se puede terminar con **else** (o no). Luego del **else** no puede haber más **elif**.\n"
      ]
    },
    {
      "cell_type": "code",
      "metadata": {
        "colab": {
          "base_uri": "https://localhost:8080/"
        },
        "id": "HyslFC7NEnQ0",
        "outputId": "a273d9c0-10f4-468d-809c-7db95bd694f7"
      },
      "source": [
        "a = 5\n",
        "b = 9\n",
        "c = a * b\n",
        "\n",
        "if a > b:\n",
        "    print('a mayor que b')\n",
        "elif a < c:\n",
        "    print('c es mayor que todos')\n",
        "else:\n",
        "    print('final')"
      ],
      "execution_count": null,
      "outputs": [
        {
          "output_type": "stream",
          "name": "stdout",
          "text": [
            "c es mayor que todos\n"
          ]
        }
      ]
    },
    {
      "cell_type": "code",
      "metadata": {
        "colab": {
          "base_uri": "https://localhost:8080/"
        },
        "id": "azpw53XkGDq1",
        "outputId": "3d70c9ac-55ea-4eb5-94e9-016b38104ce9"
      },
      "source": [
        "opcion = input(\"elija una opcion entre 0 y 10\")\n",
        "type(opcion)"
      ],
      "execution_count": null,
      "outputs": [
        {
          "name": "stdout",
          "output_type": "stream",
          "text": [
            "elija una opcion entre 0 y 101\n"
          ]
        },
        {
          "output_type": "execute_result",
          "data": {
            "text/plain": [
              "str"
            ]
          },
          "metadata": {},
          "execution_count": 52
        }
      ]
    },
    {
      "cell_type": "code",
      "metadata": {
        "colab": {
          "base_uri": "https://localhost:8080/"
        },
        "id": "iT75MwDvGHZn",
        "outputId": "ec5489ee-c015-4926-dd09-f2d90b3f49a8"
      },
      "source": [
        "type(int(opcion))"
      ],
      "execution_count": null,
      "outputs": [
        {
          "output_type": "execute_result",
          "data": {
            "text/plain": [
              "int"
            ]
          },
          "metadata": {},
          "execution_count": 56
        }
      ]
    },
    {
      "cell_type": "code",
      "metadata": {
        "colab": {
          "base_uri": "https://localhost:8080/"
        },
        "id": "Y1wPF3weFJN_",
        "outputId": "a1d3189d-02da-4516-9a5d-751a7f161ad1"
      },
      "source": [
        "opcion = input(\"elija una opcion entre 0 y 10: \")\n",
        "#opcionint = int(opcion)\n",
        "\n",
        "if int(opcion) == 0:\n",
        "    print(\"felicitaciones ganaste!\")\n",
        "elif int(opcion) > 0 and int(opcion) < 5:\n",
        "    print(\"estas cerca\")\n",
        "elif int(opcion) > 5 and int(opcion) <= 10:\n",
        "    print(\"lo siento perdiste\")\n",
        "elif int(opcion) == 100:\n",
        "    print(\"GANASTE TODO\")\n",
        "else:\n",
        "  print(\"Valor errado\")"
      ],
      "execution_count": null,
      "outputs": [
        {
          "output_type": "stream",
          "name": "stdout",
          "text": [
            "elija una opcion entre 0 y 10: 100\n",
            "GANASTE TODO\n"
          ]
        }
      ]
    },
    {
      "cell_type": "code",
      "metadata": {
        "id": "y4rJTokkR-tI"
      },
      "source": [
        "import sys\n",
        "\n",
        "# conversor fahrenheit a celsius - Leyendo el dato por argv\n",
        "if len(sys.argv) != 2:\n",
        "\tprint(\"uso: f2c valor\\n\")\n",
        "else:\n",
        "\tfahr = float(sys.argv[1])\n",
        "\tcel = (5*(fahr-32))/9\n",
        "\tprint (\"fahr=\", round(fahr,2), \"-> cel=\", round(cel,2))"
      ],
      "execution_count": null,
      "outputs": []
    },
    {
      "cell_type": "code",
      "metadata": {
        "id": "L95lPRGrCzJE",
        "colab": {
          "base_uri": "https://localhost:8080/"
        },
        "outputId": "1cdebe1e-0f63-423b-9f58-0d4d9b30d80f"
      },
      "source": [
        "# conversor fahrenheit a celsius - Leyendo el dato por ingreso del teclado\n",
        "\n",
        "x = input(\"Ingrese temperatura en fahrenheitt: \")\n",
        "if (x.isnumeric() == False):\n",
        "  print(\"Debe ingresar un valor numérico Real\")\n",
        "else:\n",
        "  fahr = float(x)\n",
        "  cel = (5*(fahr-32))/9\n",
        "  print (\"fahr=\", round(fahr,2), \"-> cel=\", round(cel,2))"
      ],
      "execution_count": null,
      "outputs": [
        {
          "output_type": "stream",
          "name": "stdout",
          "text": [
            "Ingrese temperatura en fahrenheitt: 55\n",
            "fahr= 55.0 -> cel= 12.78\n"
          ]
        }
      ]
    },
    {
      "cell_type": "markdown",
      "metadata": {
        "id": "k_oeq4O9Mpjj"
      },
      "source": [
        "### Estructura \"while\" (Ciclos o bucles)\n",
        "Permite ejecutar operaciones mientras se cumpla una condición.\n",
        "\n",
        "**while** (Condicion):\n",
        "\n",
        "    ... lo que se hace mientras se cumpla la condicion\n",
        "\n",
        "**else** :\n",
        "\n",
        "    ... Se ejecuta cuando la condicion no se cumple más"
      ]
    },
    {
      "cell_type": "markdown",
      "metadata": {
        "id": "elBYmvOHSfqX"
      },
      "source": [
        "Generar una tabla de conversión de grados \n",
        "Fahrenheit a Celsius partiendo de 0 hasta \n",
        "100 a intervalos de 10."
      ]
    },
    {
      "cell_type": "code",
      "metadata": {
        "id": "iKDOK57wSXK6",
        "colab": {
          "base_uri": "https://localhost:8080/"
        },
        "outputId": "6384eb9c-8aae-4881-b0e4-4a1e73999cfd"
      },
      "source": [
        "# Conversor fahrenheit a celsius\n",
        "\n",
        "fahr = 0\n",
        "while fahr < 101:\n",
        "\tcel = (5*(fahr-32))/9\n",
        "\tprint(\"fahr=\", round(fahr,2), \"-> cel=\", round(cel,2))\n",
        "\tfahr = fahr + 10"
      ],
      "execution_count": null,
      "outputs": [
        {
          "output_type": "stream",
          "name": "stdout",
          "text": [
            "fahr= 0 -> cel= -17.78\n",
            "fahr= 10 -> cel= -12.22\n",
            "fahr= 20 -> cel= -6.67\n",
            "fahr= 30 -> cel= -1.11\n",
            "fahr= 40 -> cel= 4.44\n",
            "fahr= 50 -> cel= 10.0\n",
            "fahr= 60 -> cel= 15.56\n",
            "fahr= 70 -> cel= 21.11\n",
            "fahr= 80 -> cel= 26.67\n",
            "fahr= 90 -> cel= 32.22\n",
            "fahr= 100 -> cel= 37.78\n"
          ]
        }
      ]
    },
    {
      "cell_type": "markdown",
      "metadata": {
        "id": "gW4dKpFhTGcA"
      },
      "source": [
        "Generar una tabla de conversión de grados \n",
        "Fahrenheit a Celsius partiendo de 0 hasta \n",
        "100 a intervalos de 10.\n",
        "Y luego de 100 a 110 a intervalos de 1."
      ]
    },
    {
      "cell_type": "code",
      "metadata": {
        "id": "YTqeaRVmTIi_"
      },
      "source": [
        "# conversor fahrenheit a celsius \n",
        "\n",
        "fahr = 0\n",
        "while fahr < 101: \n",
        "\tcel = (5*(fahr-32))/9\n",
        "\tprint(\"fahr=\", round(fahr,2), \"-> cel=\", round(cel,2))\n",
        "\tfahr = fahr + 10\n",
        "\n",
        "fahr = 101\n",
        "while fahr < 111: \n",
        "\tcel = (5*(fahr-32))/9\n",
        "\tprint(\"fahr=\", round(fahr,2), \"-> cel=\", round(cel,2))\n",
        "\tfahr = fahr + 1"
      ],
      "execution_count": null,
      "outputs": []
    },
    {
      "cell_type": "markdown",
      "metadata": {
        "id": "pYHRP74qNJ1C"
      },
      "source": [
        "### Estructura \"for\" (Ciclos o bucles)\n",
        "La estructura del for permite realizar una serie de acciones con una variable, que cambia su valor en cada repetición (iteración).\n",
        "\n",
        "for (variable) in (conjunto de valores):\n",
        "\n",
        "... Lo que quieras hacer con tu variable\n",
        "Veámoslo en un ejemplo de codigo:"
      ]
    },
    {
      "cell_type": "code",
      "metadata": {
        "id": "YhwJ-thzNQ7v"
      },
      "source": [
        "for x in range(0,18,6):\n",
        "    print(x)"
      ],
      "execution_count": null,
      "outputs": []
    },
    {
      "cell_type": "markdown",
      "metadata": {
        "id": "m8z6yQSnNRqN"
      },
      "source": [
        "range(a,b,d) nos genera los valores desde a hasta b con incrementos de d, por ejemplo el siguiente codigo generara los numeros pares entre 0 y 10:"
      ]
    },
    {
      "cell_type": "code",
      "metadata": {
        "id": "MP3t9GNvNa3j"
      },
      "source": [
        "for x in range(0,10,2):\n",
        "    print(x)"
      ],
      "execution_count": null,
      "outputs": []
    },
    {
      "cell_type": "markdown",
      "metadata": {
        "id": "3C1FH9fBNhub"
      },
      "source": [
        "Noten que el límite superior del rango nunca es incluído.\n",
        "\n",
        "Al utilizar la instrucción range( ) no es necesario proporcionar siempre los 3 parametros. Observen que sucede cuando se proporcionan 1, 2 o 3 parámetros:"
      ]
    },
    {
      "cell_type": "code",
      "metadata": {
        "id": "X6GFkVpRNl8q"
      },
      "source": [
        "print(\"range(5):\")\n",
        "for x in range(5):\n",
        "    print(x)\n",
        "\n",
        "print(\"range(10, 15):\")\n",
        "for x in range(10, 15):\n",
        "    print(x)\n",
        "\n",
        "print(\"range(10, 20, 3):\")\n",
        "for x in range(10, 20, 3):\n",
        "    print(x)"
      ],
      "execution_count": null,
      "outputs": []
    },
    {
      "cell_type": "markdown",
      "metadata": {
        "id": "C7byBI4ETR3P"
      },
      "source": [
        "### Funciones"
      ]
    },
    {
      "cell_type": "markdown",
      "metadata": {
        "id": "ffRhgl57Xcpz"
      },
      "source": [
        "Podemos pensar que una funcion es como tomar un conjunto de instrucciones y empaquetarlas bajo el mismo nombre, es como un pequeño programa dentro del programa, una manera de crear nuestras propias instrucciones. Las funciones son bloques que nos permiten acortar el código no repitiendo estructuras que necesitamos utilizar mucho. Al igual que los programas las funciones tienen un input y un output: el input son las variables de entrada y su output es el valor o valores que devuelven.\n",
        "\n",
        "En Python las funciones se implementan de la siguiente forma:\n",
        "\n",
        "\n",
        "**def** miFunción($a_i,b_i,c_i,...$)**:**\n",
        "\n",
        "     ... Hago lo que necesite con las variables a,b,c\n",
        "    \n",
        "   **return** $a_o,b_o,c_o,...$\n",
        "\n",
        "\n",
        "Es importante tener en cuenta que la *definicion* de la funcion no provoca ninguna acción, solamente le indica a la computadora que la proxima vez que se escriba el nombre de la función, esta debe realizar las instrucciones indicadas por la definición.\n",
        "\n",
        "Confeccionar una funcion para convertir de fahrenheit a Celcius"
      ]
    },
    {
      "cell_type": "code",
      "metadata": {
        "id": "ktuCJO5MTUA3"
      },
      "source": [
        "# conversor fahrenheit a celsius \n",
        "\n",
        "def convertir(valorInicial, valorFinal, intervalo):\n",
        "\tfahr = valorInicial\n",
        "\twhile fahr < valorFinal+1:\n",
        "\t\tcel = (5*(fahr-32))/9\n",
        "\t\tprint(\"fahrenheit=\", round(fahr,2), \"-> celsius=\", round(cel,2))\n",
        "\t\tfahr = fahr + intervalo"
      ],
      "execution_count": null,
      "outputs": []
    },
    {
      "cell_type": "code",
      "metadata": {
        "colab": {
          "base_uri": "https://localhost:8080/"
        },
        "id": "-iClABXdI_rc",
        "outputId": "b2c462c4-4c1b-45a2-c733-c22810139c8e"
      },
      "source": [
        "convertir(0, 100, 10)"
      ],
      "execution_count": null,
      "outputs": [
        {
          "output_type": "stream",
          "name": "stdout",
          "text": [
            "fahrenheit= 0 -> celsius= -17.78\n",
            "fahrenheit= 10 -> celsius= -12.22\n",
            "fahrenheit= 20 -> celsius= -6.67\n",
            "fahrenheit= 30 -> celsius= -1.11\n",
            "fahrenheit= 40 -> celsius= 4.44\n",
            "fahrenheit= 50 -> celsius= 10.0\n",
            "fahrenheit= 60 -> celsius= 15.56\n",
            "fahrenheit= 70 -> celsius= 21.11\n",
            "fahrenheit= 80 -> celsius= 26.67\n",
            "fahrenheit= 90 -> celsius= 32.22\n",
            "fahrenheit= 100 -> celsius= 37.78\n"
          ]
        }
      ]
    },
    {
      "cell_type": "code",
      "metadata": {
        "colab": {
          "base_uri": "https://localhost:8080/"
        },
        "id": "X55j6Md-JF04",
        "outputId": "cccd3ce8-ebe1-4e47-f7fe-68b90b710051"
      },
      "source": [
        "convertir(101, 110, 1)"
      ],
      "execution_count": null,
      "outputs": [
        {
          "output_type": "stream",
          "name": "stdout",
          "text": [
            "fahrenheit= 101 -> celsius= 38.33\n",
            "fahrenheit= 102 -> celsius= 38.89\n",
            "fahrenheit= 103 -> celsius= 39.44\n",
            "fahrenheit= 104 -> celsius= 40.0\n",
            "fahrenheit= 105 -> celsius= 40.56\n",
            "fahrenheit= 106 -> celsius= 41.11\n",
            "fahrenheit= 107 -> celsius= 41.67\n",
            "fahrenheit= 108 -> celsius= 42.22\n",
            "fahrenheit= 109 -> celsius= 42.78\n",
            "fahrenheit= 110 -> celsius= 43.33\n"
          ]
        }
      ]
    },
    {
      "cell_type": "code",
      "metadata": {
        "colab": {
          "base_uri": "https://localhost:8080/"
        },
        "id": "kbeIi9-EJZ-j",
        "outputId": "26d361b5-f8f8-4ab6-c885-2e017593f046"
      },
      "source": [
        "convertir(25, 69, 2)"
      ],
      "execution_count": null,
      "outputs": [
        {
          "output_type": "stream",
          "name": "stdout",
          "text": [
            "fahrenheit= 25 -> celsius= -3.89\n",
            "fahrenheit= 27 -> celsius= -2.78\n",
            "fahrenheit= 29 -> celsius= -1.67\n",
            "fahrenheit= 31 -> celsius= -0.56\n",
            "fahrenheit= 33 -> celsius= 0.56\n",
            "fahrenheit= 35 -> celsius= 1.67\n",
            "fahrenheit= 37 -> celsius= 2.78\n",
            "fahrenheit= 39 -> celsius= 3.89\n",
            "fahrenheit= 41 -> celsius= 5.0\n",
            "fahrenheit= 43 -> celsius= 6.11\n",
            "fahrenheit= 45 -> celsius= 7.22\n",
            "fahrenheit= 47 -> celsius= 8.33\n",
            "fahrenheit= 49 -> celsius= 9.44\n",
            "fahrenheit= 51 -> celsius= 10.56\n",
            "fahrenheit= 53 -> celsius= 11.67\n",
            "fahrenheit= 55 -> celsius= 12.78\n",
            "fahrenheit= 57 -> celsius= 13.89\n",
            "fahrenheit= 59 -> celsius= 15.0\n",
            "fahrenheit= 61 -> celsius= 16.11\n",
            "fahrenheit= 63 -> celsius= 17.22\n",
            "fahrenheit= 65 -> celsius= 18.33\n",
            "fahrenheit= 67 -> celsius= 19.44\n",
            "fahrenheit= 69 -> celsius= 20.56\n"
          ]
        }
      ]
    },
    {
      "cell_type": "code",
      "metadata": {
        "colab": {
          "base_uri": "https://localhost:8080/"
        },
        "id": "4ZAUWLM2Jgv0",
        "outputId": "eda757fd-75d8-4bc3-d3b0-42f3a01ad51f"
      },
      "source": [
        "convertir(0, 9, 1)"
      ],
      "execution_count": null,
      "outputs": [
        {
          "output_type": "stream",
          "name": "stdout",
          "text": [
            "fahrenheit= 0 -> celsius= -17.78\n",
            "fahrenheit= 1 -> celsius= -17.22\n",
            "fahrenheit= 2 -> celsius= -16.67\n",
            "fahrenheit= 3 -> celsius= -16.11\n",
            "fahrenheit= 4 -> celsius= -15.56\n",
            "fahrenheit= 5 -> celsius= -15.0\n",
            "fahrenheit= 6 -> celsius= -14.44\n",
            "fahrenheit= 7 -> celsius= -13.89\n",
            "fahrenheit= 8 -> celsius= -13.33\n",
            "fahrenheit= 9 -> celsius= -12.78\n"
          ]
        }
      ]
    },
    {
      "cell_type": "markdown",
      "metadata": {
        "id": "5Eln7kRMTg5f"
      },
      "source": [
        "#### Encapsulamiento y abstracción"
      ]
    },
    {
      "cell_type": "markdown",
      "metadata": {
        "id": "a3Z3HDOhZsIC"
      },
      "source": [
        "La instrucción **return** sirve para indicar el resultado que la función \"devuelve\". Una vez que se alcanza la instrucción **return** la función termina y devuelve el valor indicado. En general es preferible devolver información usando **return** antes que imprimirla usando **print** ya que esto permite reutilizar la función para una cantidad de casos mayor, donde no siempre quiero mostrar el resultado en pantalla, aunque queda a criterio de cada uno para lo que necesite."
      ]
    },
    {
      "cell_type": "code",
      "metadata": {
        "id": "nT_yeBfsTl1v"
      },
      "source": [
        "# conversor fahrenheit a celsius \n",
        "\n",
        "def fahrenheit2Celsius(valor):\n",
        "\t\treturn (5*(valor-32))/9\n",
        "\n",
        "def convertir(valorInicial, valorFinal, intervalo):\n",
        "\tfahr = valorInicial\n",
        "\twhile fahr < valorFinal+1:\n",
        "\t\tcel = fahrenheit2Celsius(fahr)\n",
        "\t\tprint(\"fahr=\", round(fahr,2), \"-> cel=\", round(cel,2))\n",
        "\t\tfahr = fahr + intervalo;"
      ],
      "execution_count": null,
      "outputs": []
    },
    {
      "cell_type": "code",
      "metadata": {
        "colab": {
          "base_uri": "https://localhost:8080/"
        },
        "id": "yETN7UDfKT5K",
        "outputId": "0f7458f0-28a2-4816-e692-7375a9dafcea"
      },
      "source": [
        "convertir(0, 100, 10)"
      ],
      "execution_count": null,
      "outputs": [
        {
          "output_type": "stream",
          "name": "stdout",
          "text": [
            "fahr= 0 -> cel= -17.78\n",
            "fahr= 10 -> cel= -12.22\n",
            "fahr= 20 -> cel= -6.67\n",
            "fahr= 30 -> cel= -1.11\n",
            "fahr= 40 -> cel= 4.44\n",
            "fahr= 50 -> cel= 10.0\n",
            "fahr= 60 -> cel= 15.56\n",
            "fahr= 70 -> cel= 21.11\n",
            "fahr= 80 -> cel= 26.67\n",
            "fahr= 90 -> cel= 32.22\n",
            "fahr= 100 -> cel= 37.78\n"
          ]
        }
      ]
    },
    {
      "cell_type": "code",
      "metadata": {
        "id": "lTJf6TY6KRev"
      },
      "source": [],
      "execution_count": null,
      "outputs": []
    },
    {
      "cell_type": "markdown",
      "source": [
        "### Diccionarios"
      ],
      "metadata": {
        "id": "_FnG6ImhsTpK"
      }
    },
    {
      "cell_type": "code",
      "source": [
        "#Diccionario Vacio\n",
        "un_diccionario={}"
      ],
      "metadata": {
        "id": "K--dE4nZsWfd"
      },
      "execution_count": null,
      "outputs": []
    },
    {
      "cell_type": "code",
      "source": [
        "#Tipo de dato\n",
        "type(un_diccionario)"
      ],
      "metadata": {
        "colab": {
          "base_uri": "https://localhost:8080/"
        },
        "id": "Sgf6eiOvtq3k",
        "outputId": "441d03a5-2f39-4934-a461-5cae50066940"
      },
      "execution_count": null,
      "outputs": [
        {
          "output_type": "execute_result",
          "data": {
            "text/plain": [
              "dict"
            ]
          },
          "metadata": {},
          "execution_count": 3
        }
      ]
    },
    {
      "cell_type": "code",
      "source": [
        "#diccionario con dos elementos\n",
        "otro_diccionario = {'nombre': 'pepe', \"edad\": 3}"
      ],
      "metadata": {
        "id": "1WH9q0-0tulM"
      },
      "execution_count": null,
      "outputs": []
    },
    {
      "cell_type": "code",
      "source": [
        "#Cantidad de elementos\n",
        "len(otro_diccionario)"
      ],
      "metadata": {
        "colab": {
          "base_uri": "https://localhost:8080/"
        },
        "id": "O94Rc7ECx3kp",
        "outputId": "1ef5718e-ac40-4337-a736-c24ff173c9e5"
      },
      "execution_count": null,
      "outputs": [
        {
          "output_type": "execute_result",
          "data": {
            "text/plain": [
              "2"
            ]
          },
          "metadata": {},
          "execution_count": 28
        }
      ]
    },
    {
      "cell_type": "code",
      "source": [
        "#Accedemos a los elementos por clave\n",
        "otro_diccionario['nombre']"
      ],
      "metadata": {
        "colab": {
          "base_uri": "https://localhost:8080/",
          "height": 36
        },
        "id": "XXd6p4igtuVq",
        "outputId": "a6e2d418-38c1-4b0e-f208-a9f744a266a0"
      },
      "execution_count": null,
      "outputs": [
        {
          "output_type": "execute_result",
          "data": {
            "text/plain": [
              "'pepe'"
            ],
            "application/vnd.google.colaboratory.intrinsic+json": {
              "type": "string"
            }
          },
          "metadata": {},
          "execution_count": 5
        }
      ]
    },
    {
      "cell_type": "code",
      "source": [
        "#Accedemos a los elementos por clave\n",
        "otro_diccionario['edad']"
      ],
      "metadata": {
        "colab": {
          "base_uri": "https://localhost:8080/"
        },
        "id": "trMNOGX-uIdl",
        "outputId": "3424cd8a-83e2-4a64-8fbf-5b33e8ac5b5c"
      },
      "execution_count": null,
      "outputs": [
        {
          "output_type": "execute_result",
          "data": {
            "text/plain": [
              "3"
            ]
          },
          "metadata": {},
          "execution_count": 6
        }
      ]
    },
    {
      "cell_type": "code",
      "source": [
        "#Creo una nueva clave para el diccionario\n",
        "otro_diccionario['apellido']='perez'\n",
        "print(otro_diccionario)"
      ],
      "metadata": {
        "colab": {
          "base_uri": "https://localhost:8080/"
        },
        "id": "3lA030edwAVW",
        "outputId": "7c017121-b79f-4463-9892-1403807710c1"
      },
      "execution_count": null,
      "outputs": [
        {
          "output_type": "stream",
          "name": "stdout",
          "text": [
            "{'nombre': 'pepe', 'edad': 3, 'apellido': 'perez'}\n"
          ]
        }
      ]
    },
    {
      "cell_type": "code",
      "source": [
        "#Diccionarios con tres pares clave-valor\n",
        "dicc_1={'nombre':'Carlos','edad':20,'notas':[8,9,10]}\n",
        "dicc_2={'nombre':'Jorge','edad':25,'notas':[6,7,10]}"
      ],
      "metadata": {
        "id": "S6sJUKPtuQmh"
      },
      "execution_count": null,
      "outputs": []
    },
    {
      "cell_type": "code",
      "source": [
        "#Accedemos a los elementos por clave\n",
        "dicc_1['notas']"
      ],
      "metadata": {
        "colab": {
          "base_uri": "https://localhost:8080/"
        },
        "id": "jzfSf3SxutNf",
        "outputId": "1beb2e9f-46cd-4e26-b6ba-33da7c5170d2"
      },
      "execution_count": null,
      "outputs": [
        {
          "output_type": "execute_result",
          "data": {
            "text/plain": [
              "[8, 9, 10]"
            ]
          },
          "metadata": {},
          "execution_count": 9
        }
      ]
    },
    {
      "cell_type": "code",
      "source": [
        "dicc_1['notas'][0]"
      ],
      "metadata": {
        "colab": {
          "base_uri": "https://localhost:8080/"
        },
        "id": "bO1kof3Mux7Z",
        "outputId": "b2d6092c-9114-4bfc-b163-bb7f65ea550e"
      },
      "execution_count": null,
      "outputs": [
        {
          "output_type": "execute_result",
          "data": {
            "text/plain": [
              "8"
            ]
          },
          "metadata": {},
          "execution_count": 10
        }
      ]
    },
    {
      "cell_type": "code",
      "source": [
        "dicc_1['edad']<dicc_2['edad']"
      ],
      "metadata": {
        "colab": {
          "base_uri": "https://localhost:8080/"
        },
        "id": "4MV6BXZKuz4o",
        "outputId": "63262f99-e917-4dd9-9440-fe9c37e499bd"
      },
      "execution_count": null,
      "outputs": [
        {
          "output_type": "execute_result",
          "data": {
            "text/plain": [
              "True"
            ]
          },
          "metadata": {},
          "execution_count": 11
        }
      ]
    },
    {
      "cell_type": "code",
      "source": [
        "#Asignación \n",
        "dicc_3=dicc_2\n",
        "print(dicc_3)"
      ],
      "metadata": {
        "colab": {
          "base_uri": "https://localhost:8080/"
        },
        "id": "i-SmJcGcvpoO",
        "outputId": "2bb2f587-e45e-4de9-c791-05e34e5d9927"
      },
      "execution_count": null,
      "outputs": [
        {
          "output_type": "stream",
          "name": "stdout",
          "text": [
            "{'nombre': 'Jorge', 'edad': 25, 'notas': [6, 7, 10], 'apellido': ['perez'], 'profesion': 'contador'}\n"
          ]
        }
      ]
    },
    {
      "cell_type": "code",
      "source": [
        "dicc_2['apellido']='perez'\n",
        "print(dicc_2)"
      ],
      "metadata": {
        "colab": {
          "base_uri": "https://localhost:8080/"
        },
        "id": "Skt-BnUbvvs3",
        "outputId": "6161b1d9-545e-4f3e-d94b-24c508e2eab2"
      },
      "execution_count": null,
      "outputs": [
        {
          "output_type": "stream",
          "name": "stdout",
          "text": [
            "{'nombre': 'Jorge', 'edad': 25, 'notas': [6, 7, 10], 'apellido': 'perez', 'profesion': 'contador'}\n"
          ]
        }
      ]
    },
    {
      "cell_type": "code",
      "source": [
        "print(dicc_3)"
      ],
      "metadata": {
        "colab": {
          "base_uri": "https://localhost:8080/"
        },
        "id": "GcOxhvR_w7KP",
        "outputId": "d79118ec-2711-4ba5-f344-ca7c286830f0"
      },
      "execution_count": null,
      "outputs": [
        {
          "output_type": "stream",
          "name": "stdout",
          "text": [
            "{'nombre': 'Jorge', 'edad': 25, 'notas': [6, 7, 10], 'apellido': ['perez']}\n"
          ]
        }
      ]
    },
    {
      "cell_type": "code",
      "source": [
        "dicc_3=dicc_2.copy()"
      ],
      "metadata": {
        "id": "Bj5yhDqBxCqB"
      },
      "execution_count": null,
      "outputs": []
    },
    {
      "cell_type": "code",
      "source": [
        "dicc_2['profesion']='contador'\n",
        "print(dicc_2)"
      ],
      "metadata": {
        "colab": {
          "base_uri": "https://localhost:8080/"
        },
        "id": "dZSVjskKxLHi",
        "outputId": "ea225097-b1bf-4e52-8624-e9a96c3de0e4"
      },
      "execution_count": null,
      "outputs": [
        {
          "output_type": "stream",
          "name": "stdout",
          "text": [
            "{'nombre': 'Jorge', 'edad': 25, 'notas': [6, 7, 10], 'apellido': ['perez'], 'profesion': 'contador'}\n"
          ]
        }
      ]
    },
    {
      "cell_type": "code",
      "source": [
        "print(dicc_3)"
      ],
      "metadata": {
        "colab": {
          "base_uri": "https://localhost:8080/"
        },
        "id": "bncRjWzuxTds",
        "outputId": "7b407f97-9875-478a-c681-d84d01e8af7a"
      },
      "execution_count": null,
      "outputs": [
        {
          "output_type": "stream",
          "name": "stdout",
          "text": [
            "{'nombre': 'Jorge', 'edad': 25, 'notas': [6, 7, 10], 'apellido': ['perez']}\n"
          ]
        }
      ]
    },
    {
      "cell_type": "markdown",
      "metadata": {
        "id": "RmTjNPPO8KqN"
      },
      "source": [
        "## Ejercicios"
      ]
    },
    {
      "cell_type": "markdown",
      "metadata": {
        "id": "tEA0FWhU8M1w"
      },
      "source": [
        "###Ejercicio 1\n",
        "\n",
        "a) Realizar un programa que revise si una nota está aprobada (es decir si es mayor o igual a 4) utilizando un if/else. La nota será ingresada por el usuario usando input().\n",
        "\n",
        "b) Realizar un programa que convierta una nota porcentual del 0 al 100 a una letra entre A y F de acuerdo a la siguiente conversión:\n",
        "\n",
        "A: 90–100\n",
        "\n",
        "B: 80–89\n",
        "\n",
        "C: 70–79\n",
        "\n",
        "D: 60–69\n",
        "\n",
        "F: 0–59"
      ]
    },
    {
      "cell_type": "code",
      "metadata": {
        "id": "y2RRqJTc8Ur6"
      },
      "source": [
        "# Resolución\n"
      ],
      "execution_count": null,
      "outputs": []
    },
    {
      "cell_type": "markdown",
      "metadata": {
        "id": "9AiFCGx18XEY"
      },
      "source": [
        "### Ejercicio 2\n",
        "Implementar un programa que muestre la siguiente secuencia:\n",
        "\n",
        "1, 2, 3, 4, 5, 4, 3, 2, 1, 0\n",
        "\n",
        "Para un desafío mayor: Utilizar un sólo while, un solo if y un sólo else"
      ]
    },
    {
      "cell_type": "code",
      "metadata": {
        "id": "adnFiUgL8ZjB"
      },
      "source": [
        "# Resolución"
      ],
      "execution_count": null,
      "outputs": []
    },
    {
      "cell_type": "markdown",
      "metadata": {
        "id": "t-UxRMCv916h"
      },
      "source": [
        "### Ejercicio 3\n",
        "Escribir una función que chequee los siguientes usuarios y contraseñas:\n",
        "\n",
        "* Usuario: Juan - Contraseña: 12345_\n",
        "* Usuario: Pablo - Contraseña: xDcFvGbHn\n",
        "\n",
        "La función debe recibir como parámetros el usuario y la contraseña, y debe devolver el valor True o False."
      ]
    },
    {
      "cell_type": "code",
      "metadata": {
        "id": "x6abvhqC-TgR"
      },
      "source": [
        "# Resolucion\n"
      ],
      "execution_count": null,
      "outputs": []
    },
    {
      "cell_type": "markdown",
      "metadata": {
        "id": "TgB_BSP4N0Ma"
      },
      "source": [
        "### Ejercicio 4\n",
        "Mostrar la siguiente secuencia de datos utilizando la instrucción for y la instrucción if:\n",
        "\n",
        "0, 1, 4, 9, 16, 25, 6, 7, 8, 9"
      ]
    },
    {
      "cell_type": "code",
      "metadata": {
        "id": "2-4bDpoMN30B"
      },
      "source": [
        "# Resolucion\n"
      ],
      "execution_count": null,
      "outputs": []
    },
    {
      "cell_type": "markdown",
      "metadata": {
        "id": "WkHUCFht-k-h"
      },
      "source": [
        "### Ejercicio 5\n",
        "\n",
        "Escriba un programa que reciba un número del usuario y repita el siguiente proceso usando un while:\n",
        "\n",
        "* Si el numero es par, se debe dividir por  2 .\n",
        "* Si el numero es impar, se debe multiplicar por  3  y sumar  1 .\n",
        "\n",
        "Este proceso se repite hasta llegar al numero  1  y luego muestra en pantalla la cantidad de pasos que tardó en llegar.\n",
        "\n",
        "Ejemplo para  n=6 :\n",
        "\n",
        "6,3,10,5,16,8,4,2,1 \n",
        "\n",
        "Resultado = 8"
      ]
    },
    {
      "cell_type": "code",
      "metadata": {
        "id": "wsEb2VnF-trb"
      },
      "source": [
        "# Resolución\n"
      ],
      "execution_count": null,
      "outputs": []
    },
    {
      "cell_type": "markdown",
      "metadata": {
        "id": "1NOlTqaI-_FZ"
      },
      "source": [
        "### Ejercicio 6\n",
        "\n",
        "a) Escribir una función que calcule el promedio de 3 notas y entrege ese valor usando return.\n",
        "\n",
        "b) Reescribir la función anterior modificandola para asignar una importancia al primer examen de 20%, al segundo de 50% y al tercero de 30%.\n",
        "\n",
        "b)Llamar a cada función anterior 3 veces con distintas notas y verificar, mediante la instrucción if, si el alumno aprobó en cada caso (suponga que 4 es la nota de aprobación)."
      ]
    },
    {
      "cell_type": "code",
      "metadata": {
        "id": "JVCQJ4Eo_B57"
      },
      "source": [
        "# Resolución\n"
      ],
      "execution_count": null,
      "outputs": []
    },
    {
      "cell_type": "markdown",
      "source": [
        "### Ejercicio 7\n",
        "\n",
        "Implementar las funciones getMin, getMax y computeMeanpara que el siguiente programa pueda ejecutarse correctamente:\n",
        "\n",
        "    valores = [23,4,67,32,13]\n",
        "    print(\"El mínimo valor es: \", getMin(valores))\n",
        "    print(\"El máximo valor es: \", getMax(valores))\n",
        "    print(\"El promedio es: \", computeMean(valores))\n",
        "\n",
        "\n",
        "Las funciones no deben modificar el contenido de la lista."
      ],
      "metadata": {
        "id": "ijbJstX4zF9V"
      }
    },
    {
      "cell_type": "code",
      "source": [
        "#Resolución"
      ],
      "metadata": {
        "id": "3C0wXkmfzUU8"
      },
      "execution_count": null,
      "outputs": []
    }
  ]
}