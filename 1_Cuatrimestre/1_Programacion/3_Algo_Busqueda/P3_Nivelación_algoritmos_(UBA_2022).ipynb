{
  "nbformat": 4,
  "nbformat_minor": 0,
  "metadata": {
    "colab": {
      "provenance": [],
      "collapsed_sections": [
        "oDkBPC4rMD8v",
        "Fm_1kH9rY6t2",
        "Y98G7O6kQrL2",
        "4J3wi0FwY7l2",
        "m0qbdIGDKcUe",
        "Rgd33nFaKltV"
      ],
      "toc_visible": true
    },
    "kernelspec": {
      "name": "python3",
      "display_name": "Python 3"
    },
    "language_info": {
      "name": "python"
    }
  },
  "cells": [
    {
      "cell_type": "markdown",
      "metadata": {
        "id": "Lxw26PeKKZdI"
      },
      "source": [
        "# <center>Maestría en Explotación de Datos y Descubrimiento del Conocimiento</center>\n",
        "## <center>FCEN - UBA</center>\n",
        "## <center>Curso de Nivelación de Algoritmos 2022</center>\n",
        "\n",
        "### <center>Clase Práctica 3</center>\n",
        "\n",
        "<p align=\"right\"> <br>\n",
        "Laura Eliaschev <br>\n",
        "Azul Villanueva <br>\n",
        "Diego Onna<br>\n",
        "Salvador Calani</p>"
      ]
    },
    {
      "cell_type": "markdown",
      "source": [
        "##Ejemplos Clase teórica"
      ],
      "metadata": {
        "id": "63polF4wZg7S"
      }
    },
    {
      "cell_type": "markdown",
      "metadata": {
        "id": "cVek5FUOsE-Q"
      },
      "source": [
        "### Ejemplo 1.1"
      ]
    },
    {
      "cell_type": "code",
      "metadata": {
        "id": "IzY1d0QUpVvt"
      },
      "source": [
        "def func1(A):\n",
        "  RV = 0\n",
        "  i = 0\n",
        " \n",
        "  while i < len(A):\n",
        "    j = 0\n",
        "    sumaAnteriores = 0\n",
        "    while j < i:\n",
        "      sumaAnteriores = sumaAnteriores + A[j]\n",
        "      j = j + 1\n",
        "    if sumaAnteriores == A[i]:\n",
        "      RV = RV +1\n",
        "    i = i + 1\n",
        "\n",
        "  return RV"
      ],
      "execution_count": null,
      "outputs": []
    },
    {
      "cell_type": "code",
      "metadata": {
        "colab": {
          "base_uri": "https://localhost:8080/"
        },
        "id": "KPE943zQtPja",
        "outputId": "19eddb22-bf5a-4f13-d073-e1a8ac936f4a"
      },
      "source": [
        "lista =[1, 0, 1, 0, 2, 4]\n",
        "print(func1(lista))"
      ],
      "execution_count": null,
      "outputs": [
        {
          "output_type": "stream",
          "name": "stdout",
          "text": [
            "3\n"
          ]
        }
      ]
    },
    {
      "cell_type": "code",
      "source": [
        "lista =[1]\n",
        "print(func1(lista))"
      ],
      "metadata": {
        "colab": {
          "base_uri": "https://localhost:8080/"
        },
        "id": "OrfGxNOd0Iz-",
        "outputId": "7919e15c-4dd3-4885-f99e-da1aabb97a4d"
      },
      "execution_count": null,
      "outputs": [
        {
          "output_type": "stream",
          "name": "stdout",
          "text": [
            "0\n"
          ]
        }
      ]
    },
    {
      "cell_type": "code",
      "source": [
        "lista =[1,0,1]\n",
        "print(func1(lista))"
      ],
      "metadata": {
        "colab": {
          "base_uri": "https://localhost:8080/"
        },
        "id": "G6UPKN4W0OAe",
        "outputId": "73f251b4-b018-4bb4-80d0-08b696e508fc"
      },
      "execution_count": null,
      "outputs": [
        {
          "output_type": "stream",
          "name": "stdout",
          "text": [
            "1\n"
          ]
        }
      ]
    },
    {
      "cell_type": "code",
      "source": [
        "lista =[1, 0, 1, 0, 2]\n",
        "print(func1(lista))"
      ],
      "metadata": {
        "colab": {
          "base_uri": "https://localhost:8080/"
        },
        "id": "TTifevB70Qju",
        "outputId": "6480752c-7a38-4832-b10c-6bf9f0dfbf4a"
      },
      "execution_count": null,
      "outputs": [
        {
          "output_type": "stream",
          "name": "stdout",
          "text": [
            "2\n"
          ]
        }
      ]
    },
    {
      "cell_type": "code",
      "source": [
        "lista =[1, 0, 1, 0, 2, 4]\n",
        "print(func1(lista))"
      ],
      "metadata": {
        "colab": {
          "base_uri": "https://localhost:8080/"
        },
        "id": "kzuwJFNJcrtV",
        "outputId": "be7d1180-813e-4b14-c8b1-54447c858dde"
      },
      "execution_count": null,
      "outputs": [
        {
          "output_type": "stream",
          "name": "stdout",
          "text": [
            "3\n"
          ]
        }
      ]
    },
    {
      "cell_type": "markdown",
      "metadata": {
        "id": "xPWV3lmotft7"
      },
      "source": [
        "### Ejemplo 1.2"
      ]
    },
    {
      "cell_type": "code",
      "metadata": {
        "id": "wd1lcSaAto_C"
      },
      "source": [
        "def func2(A):\n",
        "  RV = 0\n",
        "  i = 0\n",
        "  sumaAnteriores = 0\n",
        "  while i < len(A):\n",
        "    if sumaAnteriores==A[i]:\n",
        "      RV = RV + 1\n",
        "    sumaAnteriores = sumaAnteriores + A[i]\n",
        "    i = i + 1\n",
        "\n",
        "  return RV"
      ],
      "execution_count": null,
      "outputs": []
    },
    {
      "cell_type": "code",
      "source": [
        "lista =[1, 0, 1, 0, 2, 4]\n",
        "func2(lista)"
      ],
      "metadata": {
        "colab": {
          "base_uri": "https://localhost:8080/"
        },
        "id": "q6PiivAlEGJ7",
        "outputId": "650655fa-0beb-42ba-9f39-0779cd331528"
      },
      "execution_count": null,
      "outputs": [
        {
          "output_type": "execute_result",
          "data": {
            "text/plain": [
              "3"
            ]
          },
          "metadata": {},
          "execution_count": 9
        }
      ]
    },
    {
      "cell_type": "markdown",
      "source": [
        "### Tiempo de Ejecución"
      ],
      "metadata": {
        "id": "-K_sWiOFxgtJ"
      }
    },
    {
      "cell_type": "markdown",
      "source": [
        "Vamos a utilizr la libreria time de python, para conocer el tiempo en segundos que conusme cada función del ejemplo anterior.\n",
        "\n",
        "https://docs.python.org/3/library/time.html"
      ],
      "metadata": {
        "id": "Av60G9znzUTD"
      }
    },
    {
      "cell_type": "code",
      "source": [
        "#Importamos la libreria time\n",
        "import time\n",
        "\n",
        "#inicia cronometro\n",
        "ini = time.time()\n",
        "\n",
        "#ejecuta instrucción\n",
        "print(\"hola\")\n",
        "\n",
        "#finaliza cronometro\n",
        "fin = time.time()\n",
        "\n",
        "#imprime tiempo de procesamiento\n",
        "print('tiempo de procesamiento: ', fin - ini)"
      ],
      "metadata": {
        "colab": {
          "base_uri": "https://localhost:8080/"
        },
        "id": "sHY48JzIqeY4",
        "outputId": "15970f13-3356-4a0c-86a9-006bef7d5113"
      },
      "execution_count": null,
      "outputs": [
        {
          "output_type": "stream",
          "name": "stdout",
          "text": [
            "hola\n",
            "tiempo de procesamiento:  0.0021371841430664062\n"
          ]
        }
      ]
    },
    {
      "cell_type": "markdown",
      "source": [
        "Comparemos el tiempo de ejecución de las funciones func1 y func2 para un mismo tamaño de entrada (cantidad de elementos de la lista)"
      ],
      "metadata": {
        "id": "na62cX88x0Vn"
      }
    },
    {
      "cell_type": "code",
      "source": [
        "lista =[0, 0, 5, 0, 0, 5, 10, 20, 6]\n",
        "print(len(lista))"
      ],
      "metadata": {
        "colab": {
          "base_uri": "https://localhost:8080/"
        },
        "id": "tD026tQfvI4y",
        "outputId": "0f3eb61a-8340-4e97-b79a-eb9411333744"
      },
      "execution_count": null,
      "outputs": [
        {
          "output_type": "stream",
          "name": "stdout",
          "text": [
            "9\n"
          ]
        }
      ]
    },
    {
      "cell_type": "code",
      "source": [
        "ini=time.time()\n",
        "func1(lista)\n",
        "fin = time.time()\n",
        "print('tiempo de procesamiento: ', round(fin - ini, 5))"
      ],
      "metadata": {
        "colab": {
          "base_uri": "https://localhost:8080/"
        },
        "id": "uY8pn5pIvSAs",
        "outputId": "e5c7a558-d424-488b-cf13-8d5aff3cad0b"
      },
      "execution_count": null,
      "outputs": [
        {
          "output_type": "stream",
          "name": "stdout",
          "text": [
            "tiempo de procesamiento:  0.0001\n"
          ]
        }
      ]
    },
    {
      "cell_type": "code",
      "source": [
        "ini=time.time()\n",
        "func2(lista)\n",
        "fin = time.time()\n",
        "print('tiempo de procesamiento: ', round(fin - ini,5))"
      ],
      "metadata": {
        "colab": {
          "base_uri": "https://localhost:8080/"
        },
        "id": "gpxTPXKsvY5o",
        "outputId": "4e28661e-f09b-43df-cbdf-aa4c860a87b4"
      },
      "execution_count": null,
      "outputs": [
        {
          "output_type": "stream",
          "name": "stdout",
          "text": [
            "tiempo de procesamiento:  6e-05\n"
          ]
        }
      ]
    },
    {
      "cell_type": "markdown",
      "source": [
        "Comparemos el tiempo de ejecución de las funciones func1 y func2 si aumentamos el tamaño de mismo la entrada (cantidad de elementos de la lista)"
      ],
      "metadata": {
        "id": "05rXq4KIx7t8"
      }
    },
    {
      "cell_type": "code",
      "source": [
        "lista =[0, 0, 5, 0, 0, 5, 10, 20, 6]*100\n",
        "print(len(lista))"
      ],
      "metadata": {
        "colab": {
          "base_uri": "https://localhost:8080/"
        },
        "id": "3HJlAMT5yT-_",
        "outputId": "1a1ca801-1b70-4d26-958c-8b48814d1eff"
      },
      "execution_count": null,
      "outputs": [
        {
          "output_type": "stream",
          "name": "stdout",
          "text": [
            "900\n"
          ]
        }
      ]
    },
    {
      "cell_type": "code",
      "source": [
        "ini=time.time()\n",
        "func1(lista)\n",
        "fin = time.time()\n",
        "print('tiempo de procesamiento: ', fin - ini)"
      ],
      "metadata": {
        "colab": {
          "base_uri": "https://localhost:8080/"
        },
        "id": "XH39pdYOyJ8v",
        "outputId": "04675fed-893d-4558-b969-2344536d38f3"
      },
      "execution_count": null,
      "outputs": [
        {
          "output_type": "stream",
          "name": "stdout",
          "text": [
            "tiempo de procesamiento:  0.053987979888916016\n"
          ]
        }
      ]
    },
    {
      "cell_type": "code",
      "source": [
        "ini=time.time()\n",
        "func2(lista)\n",
        "fin = time.time()\n",
        "print('tiempo de procesamiento: ', fin - ini)"
      ],
      "metadata": {
        "colab": {
          "base_uri": "https://localhost:8080/"
        },
        "id": "mxWE5zmeyZ81",
        "outputId": "09ed80e2-a677-4f91-d67c-fb0183ab9485"
      },
      "execution_count": null,
      "outputs": [
        {
          "output_type": "stream",
          "name": "stdout",
          "text": [
            "tiempo de procesamiento:  0.00029015541076660156\n"
          ]
        }
      ]
    },
    {
      "cell_type": "markdown",
      "source": [
        "##Algoritmos de Búsqueda"
      ],
      "metadata": {
        "id": "QalK9K-bZPVT"
      }
    },
    {
      "cell_type": "markdown",
      "source": [
        "### Búsqueda Lineal"
      ],
      "metadata": {
        "id": "oDkBPC4rMD8v"
      }
    },
    {
      "cell_type": "code",
      "source": [
        "def busqueda_lineal(lista, elemento):\n",
        "  pos  = -1\n",
        "  j    = 0\n",
        "\n",
        "  while (j < len(lista)):\n",
        "    if (lista[j] == elemento):\n",
        "      pos  = j\n",
        "    j = j+1\n",
        "\n",
        "  return pos "
      ],
      "metadata": {
        "id": "R43-8_FQZS0C"
      },
      "execution_count": null,
      "outputs": []
    },
    {
      "cell_type": "code",
      "source": [
        "#Si el elemento está en la lista, devuelve su posición\n",
        "lista =[20, 10, 5, 0, 18, 3, 55, 11, 6]\n",
        "posicion = busqueda_lineal(lista, 0)\n",
        "print(posicion)"
      ],
      "metadata": {
        "colab": {
          "base_uri": "https://localhost:8080/"
        },
        "id": "47-aK3NkMLo2",
        "outputId": "7605ea49-dcb5-4ae5-dd95-9be2468a5c37"
      },
      "execution_count": null,
      "outputs": [
        {
          "output_type": "stream",
          "name": "stdout",
          "text": [
            "3\n"
          ]
        }
      ]
    },
    {
      "cell_type": "code",
      "source": [
        "#Si el elemento no está en la lista, devuelve -1\n",
        "lista =[20, 10, 5, 0, 18, 3, 55, 11, 6]\n",
        "posicion = busqueda_lineal(lista, 2)\n",
        "print(posicion)"
      ],
      "metadata": {
        "colab": {
          "base_uri": "https://localhost:8080/"
        },
        "id": "i2uYh8pX0SzG",
        "outputId": "4a5941b4-b7aa-4d79-8d8e-8efa9ac1f662"
      },
      "execution_count": null,
      "outputs": [
        {
          "output_type": "stream",
          "name": "stdout",
          "text": [
            "-1\n"
          ]
        }
      ]
    },
    {
      "cell_type": "markdown",
      "source": [
        "Veamos cuantas comparaciones realiza el alogritmo:"
      ],
      "metadata": {
        "id": "_7WRwnf90h7b"
      }
    },
    {
      "cell_type": "code",
      "source": [
        "def busqueda_lineal_2(lista, elemento):\n",
        "  pos  = -1\n",
        "  j    = 0\n",
        "  comp = 0\n",
        "  \n",
        "  while (j < len(lista)):\n",
        "    comp=comp+1\n",
        "\n",
        "    if (lista[j] == elemento):\n",
        "      pos  = j\n",
        "    \n",
        "    j = j+1\n",
        "\n",
        "  return pos,comp"
      ],
      "metadata": {
        "id": "i1YbOIXs0hcO"
      },
      "execution_count": null,
      "outputs": []
    },
    {
      "cell_type": "code",
      "source": [
        "lista =[20, 10, 5, 0, 18, 3, 55, 11, 6]\n",
        "posicion,comparaciones=busqueda_lineal_2(lista, 20)\n",
        "print(f'posicion:{posicion}\\ncomparaciones:{comparaciones}')"
      ],
      "metadata": {
        "colab": {
          "base_uri": "https://localhost:8080/"
        },
        "id": "cDoaR0mP04CT",
        "outputId": "2fffcc55-0446-4782-97fd-e8f636f5def0"
      },
      "execution_count": null,
      "outputs": [
        {
          "output_type": "stream",
          "name": "stdout",
          "text": [
            "posicion:0\n",
            "comparaciones:9\n"
          ]
        }
      ]
    },
    {
      "cell_type": "code",
      "source": [
        "posicion,comparaciones=busqueda_lineal_2(lista, 6)\n",
        "print(f'posicion:{posicion}\\ncomparaciones:{comparaciones}')"
      ],
      "metadata": {
        "colab": {
          "base_uri": "https://localhost:8080/"
        },
        "id": "Dv8iNTWS3MTG",
        "outputId": "f45ab487-cc20-4890-ceb8-2225ed5091d1"
      },
      "execution_count": null,
      "outputs": [
        {
          "output_type": "stream",
          "name": "stdout",
          "text": [
            "posicion:8\n",
            "comparaciones:9\n"
          ]
        }
      ]
    },
    {
      "cell_type": "markdown",
      "source": [
        "¿Podríamos dejar de hacer comparaciones si ya encontramos el elemento?"
      ],
      "metadata": {
        "id": "TxiAvvf14JUM"
      }
    },
    {
      "cell_type": "code",
      "source": [
        "def busqueda_lineal_3(lista, elemento):\n",
        "  pos  = -1\n",
        "  j    = 0\n",
        "  esta=False\n",
        "  comp=0\n",
        "  while (j < len(lista)) and (not esta) :\n",
        "    \n",
        "    comp+=1\n",
        "    if (lista[j] == elemento):\n",
        "      pos  = j\n",
        "      esta=True\n",
        "    \n",
        "    j = j+1\n",
        "\n",
        "  return pos,comp"
      ],
      "metadata": {
        "id": "OCbNg_WD4Pgr"
      },
      "execution_count": null,
      "outputs": []
    },
    {
      "cell_type": "code",
      "source": [
        "posicion,comparaciones=busqueda_lineal_3(lista, 20)\n",
        "print(f'posicion:{posicion}\\ncomparaciones:{comparaciones}')"
      ],
      "metadata": {
        "colab": {
          "base_uri": "https://localhost:8080/"
        },
        "id": "vlHDpwyY5D4J",
        "outputId": "f0b86c9c-0551-4032-8ff7-4402f08fe6a4"
      },
      "execution_count": null,
      "outputs": [
        {
          "output_type": "stream",
          "name": "stdout",
          "text": [
            "posicion:0\n",
            "comparaciones:1\n"
          ]
        }
      ]
    },
    {
      "cell_type": "code",
      "source": [
        "posicion,comparaciones=busqueda_lineal_3(lista, 6)\n",
        "print(f'posicion:{posicion}\\ncomparaciones:{comparaciones}')"
      ],
      "metadata": {
        "colab": {
          "base_uri": "https://localhost:8080/"
        },
        "id": "vAcZMMAJ5SBX",
        "outputId": "5240c415-68a7-4fe9-e3d5-275f5a5ed7ba"
      },
      "execution_count": null,
      "outputs": [
        {
          "output_type": "stream",
          "name": "stdout",
          "text": [
            "posicion:8\n",
            "comparaciones:9\n"
          ]
        }
      ]
    },
    {
      "cell_type": "markdown",
      "source": [
        "Estas modificaciones nos permiten ahorrar tiempo de ejecución pero no cambia el orden en el peor caso ( cuándo el elemento no está en la lista o está en la última posición)"
      ],
      "metadata": {
        "id": "dAsJfAd9EqgY"
      }
    },
    {
      "cell_type": "markdown",
      "source": [
        "### Búsqueda Binaria"
      ],
      "metadata": {
        "id": "fe08djUoMsF1"
      }
    },
    {
      "cell_type": "code",
      "source": [
        "def busqueda_binaria(lista, elemento):\n",
        "  esta, pos = False, -1\n",
        "  izq, der  = 0, len(lista)-1\n",
        "  \n",
        "  while (izq < der):\n",
        "    med = (izq + der) // 2\n",
        "    if (lista[med] < elemento):\n",
        "      izq = med + 1\n",
        "    else:\n",
        "      der = med\n",
        "  \n",
        "  if (len(lista) != 0 and lista[izq] == elemento):\n",
        "    esta, pos = True, izq\n",
        "  \n",
        "  return (esta, pos)"
      ],
      "metadata": {
        "id": "EOJNnIQ8Mw1e"
      },
      "execution_count": null,
      "outputs": []
    },
    {
      "cell_type": "code",
      "source": [
        "lista =[3, 5, 11, 15, 18, 20, 55, 87]\n",
        "\n",
        "x = busqueda_binaria(lista, 18)\n",
        "print(x)"
      ],
      "metadata": {
        "colab": {
          "base_uri": "https://localhost:8080/"
        },
        "id": "sUs0p8qTM5qM",
        "outputId": "4af425c6-b46f-4109-8533-57a2e091c651"
      },
      "execution_count": null,
      "outputs": [
        {
          "output_type": "stream",
          "name": "stdout",
          "text": [
            "(True, 4)\n"
          ]
        }
      ]
    },
    {
      "cell_type": "code",
      "source": [
        "x = busqueda_binaria(lista, 1)\n",
        "print(x)"
      ],
      "metadata": {
        "colab": {
          "base_uri": "https://localhost:8080/"
        },
        "id": "16I8sJ31523N",
        "outputId": "7750e0e5-1462-4848-dce0-74ebc6985474"
      },
      "execution_count": null,
      "outputs": [
        {
          "output_type": "stream",
          "name": "stdout",
          "text": [
            "(False, -1)\n"
          ]
        }
      ]
    },
    {
      "cell_type": "markdown",
      "metadata": {
        "id": "KZqrWapnxN0K"
      },
      "source": [
        "## Ejercicios:\n",
        " "
      ]
    },
    {
      "cell_type": "markdown",
      "source": [
        "### Ejercicio 1\n",
        "Implementar una función que dada una lista **L** de números enteros, devuelva el elemento menor de la misma\n"
      ],
      "metadata": {
        "id": "Fm_1kH9rY6t2"
      }
    },
    {
      "cell_type": "code",
      "source": [
        "#Resolución\n",
        "\n",
        "def getMin(l):\n",
        "    minimo=l[0]\n",
        "    i=1\n",
        "    while i < len(l):\n",
        "        if l[i]<minimo:\n",
        "            minimo=l[i]\n",
        "        i=i+1\n",
        "    return minimo\n",
        "\n",
        "print(f'El minimo elemento de la lista es: {getMin([10,11,22,3,41])}')"
      ],
      "metadata": {
        "id": "86FElSfdY7Jw",
        "colab": {
          "base_uri": "https://localhost:8080/"
        },
        "outputId": "7fe92b86-f23b-4abb-b754-31eee95ac001"
      },
      "execution_count": null,
      "outputs": [
        {
          "output_type": "stream",
          "name": "stdout",
          "text": [
            "El minimo elemento de la lista es: 3\n"
          ]
        }
      ]
    },
    {
      "cell_type": "markdown",
      "source": [
        "### Ejercicio 2\n",
        "Implementar una función que dada una lista **L** y un elemento **e**, devuelva la lista resultante de eliminar **e** de la lista original. Considerar la posibilidad que **e** se encuentre repetido."
      ],
      "metadata": {
        "id": "Y98G7O6kQrL2"
      }
    },
    {
      "cell_type": "code",
      "source": [
        "#Resolución\n",
        "\n",
        "def eliminar(lista,elemento):\n",
        "  i=0\n",
        "  nueva_lista=[]\n",
        "\n",
        "  while i < len(lista):\n",
        "     if lista[i]!= elemento:\n",
        "       nueva_lista.append(lista[i])\n",
        "     i+=1\n",
        "  \n",
        "  return nueva_lista\n",
        "\n",
        "\n",
        "print(eliminar([2,1,2,1,2,1],1))"
      ],
      "metadata": {
        "id": "iN4TSbRnQ1f9",
        "colab": {
          "base_uri": "https://localhost:8080/"
        },
        "outputId": "9118647c-99df-44fa-ed5b-663d615396c6"
      },
      "execution_count": null,
      "outputs": [
        {
          "output_type": "stream",
          "name": "stdout",
          "text": [
            "[2, 2, 2]\n"
          ]
        }
      ]
    },
    {
      "cell_type": "markdown",
      "source": [
        "### Ejercicio 3\n",
        "a) Implementar una función que dada una lista **L** busque cuántas veces aparece un elemento **e** en dicha lista.<br>\n",
        "Por ejemplo, en la lista [1,2,3,1,6,1,99,1,0] el número 1 aparece 4 veces.\n",
        "\n",
        "b) Si la lista se encuentra ordenada, ¿qué modificaciones realizaría al algoritmo para que la búsqueda sea mas eficiente? Implementar dicha modificación"
      ],
      "metadata": {
        "id": "4J3wi0FwY7l2"
      }
    },
    {
      "cell_type": "code",
      "source": [
        "#Resolución\n",
        "\n",
        "def repetido(lista,elemento):\n",
        "   repeticion=0\n",
        "   \n",
        "   if len(lista)==0:\n",
        "     return -1\n",
        "   \n",
        "   i=0\n",
        "   while i < len(lista):\n",
        "      if lista[i]==elemento:\n",
        "        repeticion+=1\n",
        "      i+=1\n",
        "   \n",
        "   return repeticion\n",
        "\n",
        "lista=[1,2,3,1,6,1,99,1,0] \n",
        "e=1\n",
        "print(f'El elemento {e} aparece {repetido(lista,e)} veces')\n",
        "e=8\n",
        "print(f'El elemento {e} aparece {repetido(lista,e)} veces')"
      ],
      "metadata": {
        "id": "Fgf8cGUqY8CU",
        "colab": {
          "base_uri": "https://localhost:8080/"
        },
        "outputId": "9346ad6e-e31a-46b1-a2aa-4e044f6780b1"
      },
      "execution_count": null,
      "outputs": [
        {
          "output_type": "stream",
          "name": "stdout",
          "text": [
            "El elemento 1 aparece 4 veces\n",
            "El elemento 8 aparece 0 veces\n"
          ]
        }
      ]
    },
    {
      "cell_type": "code",
      "source": [
        "#Resolución\n",
        "def repetido_ordenado(lista,elemento):\n",
        "   repeticion=0\n",
        "   \n",
        "   if len(lista)==0:\n",
        "     return -1\n",
        "   \n",
        "   i=0\n",
        "   stop=False\n",
        "   while (i < len(lista)) & (stop==False):\n",
        "      if lista[i]==elemento:\n",
        "        repeticion+=1\n",
        "      if lista[i]>elemento:\n",
        "         stop=True\n",
        "      i+=1\n",
        "   \n",
        "   return repeticion\n",
        "\n",
        "lista=[1,1,1,1,1,2,3,5,10] \n",
        "e=1\n",
        "print(f'El elemento {e} aparece {repetido_ordenado(lista,e)} veces')\n",
        "e=8\n",
        "print(f'El elemento {e} aparece {repetido_ordenado(lista,e)} veces')"
      ],
      "metadata": {
        "id": "lpHItIaJ804D",
        "colab": {
          "base_uri": "https://localhost:8080/"
        },
        "outputId": "f7c320c7-6059-46bc-b50c-ba962a246736"
      },
      "execution_count": null,
      "outputs": [
        {
          "output_type": "stream",
          "name": "stdout",
          "text": [
            "El elemento 1 aparece 5 veces\n",
            "El elemento 8 aparece 0 veces\n"
          ]
        }
      ]
    },
    {
      "cell_type": "markdown",
      "source": [
        "### Ejercicio 4\n",
        "Modificar la función de búsqueda binaria agergándole un tercer parámetro que indique si la lista está ordenada en forma creciente o decreciente.\n",
        "\n",
        "      BusquedaBinaria(lista,elemento,orden)"
      ],
      "metadata": {
        "id": "ePpvh0XuSE6F"
      }
    },
    {
      "cell_type": "code",
      "source": [
        "#Resolución\n"
      ],
      "metadata": {
        "id": "B4VcohvgSmle"
      },
      "execution_count": null,
      "outputs": []
    },
    {
      "cell_type": "markdown",
      "metadata": {
        "id": "m0qbdIGDKcUe"
      },
      "source": [
        "### Ejercicio 5\n",
        "\n",
        "Implementar una función que dadas dos listas ordenadas **L1** y **L2**  sin elementos repetidos devuelva la cantidad de elementos de L1 que aparecen en L2 en O(len(L1)+len(L2))\n"
      ]
    },
    {
      "cell_type": "code",
      "metadata": {
        "id": "p-2e8nLVKkB2",
        "colab": {
          "base_uri": "https://localhost:8080/"
        },
        "outputId": "a99b8a54-94c3-481a-e463-03aa5175e52a"
      },
      "source": [
        "#Resolución\n",
        "\n",
        "def enAmbasListas(l1, l2): # l1 y l2 están ordenadas y sin repetidos\n",
        "    rv,j,i=0,0,0\n",
        "\n",
        "    while (j<len(l2) and i<len(l1)):\n",
        "        \n",
        "        if l2[j]==l1[i]:\n",
        "            rv=rv+1\n",
        "            i=i+1\n",
        "            j=j+1\n",
        "        elif l2[j]>l1[i]:\n",
        "            i=i+1\n",
        "        else:\n",
        "            j=j+1\n",
        "    \n",
        "    return rv\n",
        "\n",
        "print(f'La cantidad de elementos repetidos es: {enAmbasListas([0,1,2,3,4,8,9,10],[2,4,6,9])}')       "
      ],
      "execution_count": null,
      "outputs": [
        {
          "output_type": "stream",
          "name": "stdout",
          "text": [
            "La cantidad de elementos repetidos es: 3\n"
          ]
        }
      ]
    },
    {
      "cell_type": "markdown",
      "metadata": {
        "id": "Rgd33nFaKltV"
      },
      "source": [
        "### Ejercicio 6\n",
        "\n",
        "Dada una lista cuyos valores están entre 0 y 9, implementar un algoritmo que la ordene en O(len(L))"
      ]
    },
    {
      "cell_type": "code",
      "metadata": {
        "id": "ESy4IwooKtqt",
        "colab": {
          "base_uri": "https://localhost:8080/"
        },
        "outputId": "bc980597-9ca1-4133-8d93-3aa7b5b776f1"
      },
      "source": [
        "#Resolución\n",
        "\n",
        "# PRE: los valores de l están entre 0 y 9\n",
        "\n",
        "def miSort(l):\n",
        "\n",
        "  cant = [0]*10\n",
        "  salida=[]\n",
        "  \n",
        "  #1. para los números entre 0 y 9 contamos cuántos hay de cada uno en l\n",
        "  for i in range(len(l)):\n",
        "    cant[l[i]] +=1\n",
        "  \n",
        "  #2. escribimos en orden la cantidad que había de cada uno en l\n",
        "  for i in range(10):\n",
        "    salida += [i]*cant[i]\n",
        "\n",
        "  return (salida)\n",
        "\n",
        "\n",
        "miSort([0,6,2,4,8,9])"
      ],
      "execution_count": null,
      "outputs": [
        {
          "output_type": "execute_result",
          "data": {
            "text/plain": [
              "[0, 2, 4, 6, 8, 9]"
            ]
          },
          "metadata": {},
          "execution_count": 1
        }
      ]
    }
  ]
}