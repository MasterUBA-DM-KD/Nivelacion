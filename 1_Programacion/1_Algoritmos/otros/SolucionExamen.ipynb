{
 "cells": [
  {
   "cell_type": "markdown",
   "metadata": {},
   "source": []
  },
  {
   "cell_type": "markdown",
   "metadata": {},
   "source": [
    "**Ejercicio 1 (15 pts).** Dado un entero n mayor a 0, se define al n-ésimo término de la sucesión de Padovan como:\n",
    "\n",
    "$$\n",
    "P(n)=\n",
    "\\begin{cases}\n",
    "1 & \\quad \\text{si n=1,2 o 3}\\\\\n",
    "P(n-2) + P(n-3) & \\quad \\text{si n>3}\n",
    "\\end{cases}\n",
    "$$\n",
    "\n",
    "Los primeros términos de la sucesión son 1, 1, 1, 2, 2, 3, 4, 5, 7, 9, 12, 16, ...\n",
    "\n",
    "Definir una función **recursiva** `padovan(n)` en Python que reciba un número entero `n` mayor a 0 y devuelva el n-ésimo término de la sucesión de `Padovan`. Ejemplo de uso de la función:\n",
    "\n",
    "```python\n",
    "# Calcula el 10° número de Padovan.\n",
    "res_padovan = padovan(10)\n",
    "# Imprime un 9 por pantalla.\n",
    "print(res_padovan)\n",
    "```"
   ]
  },
  {
   "cell_type": "code",
   "execution_count": 9,
   "metadata": {},
   "outputs": [],
   "source": [
    "def padovan(n: int) -> int:\n",
    "    if n > 0:\n",
    "        if n in [1,2,3]:\n",
    "            return 1\n",
    "        elif n>3:\n",
    "            return padovan(n-2) + padovan(n-3)\n",
    "    else:\n",
    "        return -1\n",
    "\n",
    "assert padovan(10) == 9"
   ]
  },
  {
   "cell_type": "markdown",
   "metadata": {},
   "source": [
    "**Ejercicio 2 (15 pts).** Dados los siguientes dos programas:\n",
    "- Determinar qué computa cada función. Justificar brevemente.\n",
    "  - Ambos chequean si el número de `a` es o no igual al número de `e` presente en la lista\n",
    "- Determinar para cada función cuál es el orden de complejidad algorítmica en el peor caso en función del tamaño de la lista L. Justificar brevemente.\n",
    "  - Ambos son $O(n)$\n",
    "    - En el caso de $f1$, en el peor caso, se recorre los n elementos de L.\n",
    "    - En el caso de $f2$, en el peor caso, se recorren los n elementos de L dos veces. En todo caso, $O(2n) = O(n)$\n",
    "\n",
    "**Ayuda:** cada función se corresponde con alguno de los siguientes  ́ordenes de complejidad, donde $n = len(L)$\n",
    "$$ O(1), O(n), O(log(n)), O(n^2), O(2^n), O(n ∗ log(n)), O(n^n), O(n^3).$$"
   ]
  },
  {
   "cell_type": "code",
   "execution_count": 18,
   "metadata": {},
   "outputs": [],
   "source": [
    "def f1(L):\n",
    "    i = a = e = 0\n",
    "    while i < len(L):\n",
    "        if L[i] == 'a': # Cuenta las a\n",
    "            a = a + 1\n",
    "        elif L[i] == 'e': # Cuenta las e\n",
    "            e = e + 1\n",
    "        i = i + 1\n",
    "    return a == e # Retorna si el número de a=e en la lista\n",
    "\n",
    "def f2(L):\n",
    "    r=0\n",
    "    j = len(L) - 1\n",
    "    while j>=0:\n",
    "        # j = n-1, n-2, ... 0, -1\n",
    "        if L[j] == 'a':    # Accede a la lista desde la última entrada a la primera\n",
    "            r = r + 1      # Por cada 'a' encontrada se aumenta en 1 el contador\n",
    "        j = j - 1\n",
    "    # Eventualmente j llega a -1 e inicia el siguiente while\n",
    "    while j < len(L) - 1:\n",
    "        # j = -1, 0, 1, 2, 3, 4, len(L)-1\n",
    "        if L[j+1] == 'e': # Chequea la siguiente posición de la lista\n",
    "            r = r - 1     # Por cada 'e' encontrada se resta 1 al contador\n",
    "        j = j + 1\n",
    "    return r == 0 # Retorna si el número de a=e en la lista"
   ]
  },
  {
   "cell_type": "code",
   "execution_count": 19,
   "metadata": {},
   "outputs": [
    {
     "name": "stdout",
     "output_type": "stream",
     "text": [
      "True\n",
      "True\n",
      "False\n",
      "False\n",
      "True\n",
      "True\n"
     ]
    }
   ],
   "source": [
    "l = ['a', 'b', 'c', 'd', 'e', 'f']\n",
    "print(f1(l))\n",
    "print(f2(l))\n",
    "\n",
    "\n",
    "l = ['a', 'a', 'e', 'e', 'a', 'a']\n",
    "print(f1(l))\n",
    "print(f2(l))\n",
    "\n",
    "l = ['a', 'e', 'a', 'e', 'a', 'e']\n",
    "print(f1(l))\n",
    "print(f2(l))"
   ]
  },
  {
   "cell_type": "markdown",
   "metadata": {},
   "source": [
    "**Ejercicio 3 (10 pts).** Determinar cuál es el valor de las variables *a, b, c, i* luego de ejecutar el siguiente programa. Expresar los resultados en función de *k* cuando sea necesario, donde *k* es una variable que almacena un número entero y que fue definida con anterioridad en el programa.\n",
    "\n",
    "\n",
    "```python\n",
    "a, b, c = k, 2*k, 3*k\n",
    "i = 5\n",
    "while i <= 9:\n",
    "    c = a\n",
    "    a = b - a\n",
    "    b = c\n",
    "    i = i + 2\n",
    "\n",
    "```"
   ]
  },
  {
   "cell_type": "markdown",
   "metadata": {},
   "source": [
    "| i | a | b | c |\n",
    "|---|---|---|---|\n",
    "| 5 | k |2k |3k |\n",
    "| 7 | k |k  |k  |\n",
    "| 9 |0  |k  |k  |\n",
    "|11 |k  |0  |0  |"
   ]
  },
  {
   "cell_type": "markdown",
   "metadata": {},
   "source": [
    "**Ejercicio 4 (10 pts).** Indique Verdadero o Falso para cada una de las siguientes afirmaciones acerca de la recursión. Explique brevemente cada una de sus respuestas.\n",
    "\n",
    "1. Permite resolver problemas que con el `while` no es posible resolver: `Falso`\n",
    "   1. Es posible resolver problemas recursivos usando while y fuerza bruta.\n",
    "2. Los algoritmos recursivos siempre terminan: `Falso`\n",
    "   1. Siempre y cuando tengan un caso base, en otro caso no terminan generando un stackoverflow.\n",
    "3. El backtracking hace uso de la recursión: `Verdadero`\n",
    "   1. Backtracking hace uso de recursión por definición.\n",
    "4. No es necesario que un algoritmo recursvio tenga un caso base: `Falso`\n",
    "   1. Deben tenerlo, en otro caso la ejecución no terminará o llevará a un stackoverflow.\n",
    "5. Los algoritmos recursivos tienen menor complejidad algorítmica que los iterativos: `Falso`\n",
    "   1. Los recursivos suelen tener mayor space complexity por el hecho de llamar la función múltiples veces."
   ]
  },
  {
   "cell_type": "markdown",
   "metadata": {},
   "source": [
    "**Ejercicio 5 (25 pts).** Definir una función primeros `primos(n)` en Python que reciba un número\n",
    "entero `n` mayor a 0 y devuelva una lista con los primeros `n` números primos. Por ejemplo:\n",
    "\n",
    "`primeros_primos(1)` devuelve la lista `[2]`  \n",
    "`primeros_primos(2)` devuelve la lista `[2,3]`  \n",
    "`primeros_primos(9)` devuelve la lista `[2, 3, 5, 7, 11, 13, 17, 19, 23]`\n",
    "\n",
    "Explicar conceptualmente qué hace cada parte del programa (no explicar línea por línea el programa).\n",
    "\n",
    "*Sugerencia: definir las funciones es `primo(n)` y `enesimo_primo(n)`.*"
   ]
  },
  {
   "cell_type": "code",
   "execution_count": 90,
   "metadata": {},
   "outputs": [],
   "source": [
    "from typing import List\n",
    "\n",
    "\n",
    "def primo(n: int) -> bool:\n",
    "    for i in range(2,n):\n",
    "        if n%i == 0:\n",
    "            return False\n",
    "    return True\n",
    "\n",
    "def enesimo_primo(n: int) -> int:\n",
    "    if primo(n):\n",
    "        return n\n",
    "    else:\n",
    "        return enesimo_primo(n+1)\n",
    "\n",
    "def primeros_primos(n: int) -> List[int]:\n",
    "    primos = []\n",
    "    primos_encontados = 0\n",
    "    candidato_primo = 2\n",
    "\n",
    "    if n>0:\n",
    "        while primos_encontados < n:\n",
    "            candidato_primo = enesimo_primo(candidato_primo)\n",
    "            primos.append(candidato_primo)\n",
    "\n",
    "            candidato_primo +=1\n",
    "            primos_encontados+=1\n",
    "    else:\n",
    "        return primos\n",
    "\n",
    "    return primos\n",
    "\n",
    "\n",
    "assert primeros_primos(1) == [2]\n",
    "assert primeros_primos(2) == [2,3]\n",
    "assert primeros_primos(9) == [2, 3, 5, 7, 11, 13, 17, 19, 23]\n"
   ]
  },
  {
   "cell_type": "markdown",
   "metadata": {},
   "source": [
    "**Ejercicio 6 (15 pts).** Sea la siguiente función, cuya entrada es una lista de números:\n",
    "\n",
    "```python\n",
    "def func(L):\n",
    "    i = r = 0\n",
    "    n = len(L)\n",
    "    while i < n:\n",
    "        j=i\n",
    "        i=1\n",
    "        while i <= L[j] and i*i != L[j]:\n",
    "            i = i + 1\n",
    "        if not(i > L[j]):\n",
    "            r = r + 1\n",
    "        i = j + 1\n",
    "return r == n\n",
    "```\n",
    "\n",
    "a. Renombrar a `func` con un nombre que sea más descriptivo de lo que computa (máximo 4 palabras). Por ejemplo, si `func` ordenase la lista `L`, un mejor nombre podría ser `ordenar_lista` o simplemente ordenar. Argumentar la elección del nuevo nombre explicando qué hace la función (no explicar línea por línea el programa). Si le resulta útil, puede acompañar la explicación con ejemplos de listas y el resultado de aplicar la función.\n",
    "\n",
    "La función chequea que los números en la lista sean el resultado de una potencia de dos, lo que se puede ver al ejecutar:\n",
    "\n",
    "```python\n",
    "l = []\n",
    "for s in range(1, 100):\n",
    "    if func([s]):\n",
    "        l.append(s)\n",
    "print(l)\n",
    "\n",
    "output: [1, 4, 9, 16, 25, 36, 49, 64, 81]\n",
    "```\n",
    "\n",
    "La función podría ser renombrada a `es_lista_de_cuadrados(L)`\n",
    "\n",
    "b. ¿Qué devuelve `func` si la lista contiene números negativos? ¿Por qué?\n",
    "\n",
    "Dicho caso retornará `False` ya que no existe un `n<0` tal que al elevarlo al cuadrado dé como resultado un número `k<0`. Por ejemplo, al ejecutar:\n",
    "\n",
    "```python\n",
    "for s in range(-1, -100, -1):\n",
    "    print(func([s]))\n",
    "\n",
    "Output:\n",
    "False\n",
    "False\n",
    "...\n",
    "False\n",
    "```"
   ]
  },
  {
   "cell_type": "markdown",
   "metadata": {},
   "source": [
    "**Ejercicio 7 (10 pts).** Indique Verdadero o Falso para cada una de las siguientes afirmaciones acerca del algoritmo `Selection Sort`. Explique brevemente cada una de sus respuestas.\n",
    "\n",
    "1. Su complejidad algorítmica en peor caso es mayor que en el `Insertion Sort`: `False`\n",
    "   1. Ambos son O(n^2)\n",
    "2. Si la lista ya está ordenada termina más rápido que si está al revés: `Falso`\n",
    "   1. Tanto el peor como el mejor caso toman el mismo tiempo.\n",
    "3. Su estrategia es buscar el siguiente mínimo y ponerlo en la posición definitiva: `Verdadero`\n",
    "   1. Se intercambia la posición del mínimo en la lista sin ordernar con la última posición de la lista ordenada.\n",
    "4. Su complejidad algorítmica en peor caso es mayor que en el `Merge Sort`: `Verdadero`\n",
    "   1. `Mege Sort` en el peor caso es `O(n log(n))`.\n",
    "5. Su estrategia es ordenar recursivamente todos los elementos menos el primero y luego agregar este en la posición definitiva: `False`\n",
    "   1. Realiza el ordenamiento de manera iterativa."
   ]
  }
 ],
 "metadata": {
  "kernelspec": {
   "display_name": "Python 3.10.6 64-bit",
   "language": "python",
   "name": "python3"
  },
  "language_info": {
   "codemirror_mode": {
    "name": "ipython",
    "version": 3
   },
   "file_extension": ".py",
   "mimetype": "text/x-python",
   "name": "python",
   "nbconvert_exporter": "python",
   "pygments_lexer": "ipython3",
   "version": "3.10.6"
  },
  "orig_nbformat": 4,
  "vscode": {
   "interpreter": {
    "hash": "b0fa6594d8f4cbf19f97940f81e996739fb7646882a419484c72d19e05852a7e"
   }
  }
 },
 "nbformat": 4,
 "nbformat_minor": 2
}
